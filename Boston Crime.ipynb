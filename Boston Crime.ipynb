{
 "cells": [
  {
   "cell_type": "markdown",
   "metadata": {},
   "source": [
    "<a id = 'top'></a>"
   ]
  },
  {
   "cell_type": "markdown",
   "metadata": {},
   "source": [
    "# Crime in Boston"
   ]
  },
  {
   "cell_type": "markdown",
   "metadata": {},
   "source": [
    "**Ying Zhou**"
   ]
  },
  {
   "cell_type": "markdown",
   "metadata": {},
   "source": [
    "**This report is an on-going work.**"
   ]
  },
  {
   "cell_type": "markdown",
   "metadata": {},
   "source": [
    "[1. Data Wrangling](#data_wrangling)"
   ]
  },
  {
   "cell_type": "markdown",
   "metadata": {},
   "source": [
    "[1.1 Dropping non-crimes](#drop3)"
   ]
  },
  {
   "cell_type": "markdown",
   "metadata": {},
   "source": [
    "[2. Preliminary Analysis](#pre_anal)"
   ]
  },
  {
   "cell_type": "markdown",
   "metadata": {},
   "source": [
    "[2.1 Crime and day of the week](#day)"
   ]
  },
  {
   "cell_type": "markdown",
   "metadata": {},
   "source": [
    "[2.2 Is the crime problem in Boston getting better or worse?](#year)"
   ]
  },
  {
   "cell_type": "markdown",
   "metadata": {},
   "source": [
    "[2.3 Crime and month](#month)"
   ]
  },
  {
   "cell_type": "markdown",
   "metadata": {},
   "source": [
    "[2.4 What are the most common crimes in Boston?](#common)"
   ]
  },
  {
   "cell_type": "markdown",
   "metadata": {},
   "source": [
    "[2.5 Where are crimes located in Boston?](#location)"
   ]
  },
  {
   "cell_type": "markdown",
   "metadata": {},
   "source": [
    "[2.6 What time of day are crimes commited?](#time)"
   ]
  },
  {
   "cell_type": "markdown",
   "metadata": {},
   "source": [
    "[2.7 How many crimes involve shooting?](#shooting)"
   ]
  },
  {
   "cell_type": "markdown",
   "metadata": {},
   "source": [
    "[3. Crime rates of neighborhoods of Boston](#crime_rates)"
   ]
  },
  {
   "cell_type": "markdown",
   "metadata": {},
   "source": [
    "[3.1 Calculate the population of each neighborhood of Boston](#3.0)"
   ]
  },
  {
   "cell_type": "markdown",
   "metadata": {},
   "source": [
    "[3.2 Determining the neighborhood in which a crime took place](#3.1)"
   ]
  },
  {
   "cell_type": "markdown",
   "metadata": {},
   "source": [
    "[3.3 Calculate the crime rates](#3.2)"
   ]
  },
  {
   "cell_type": "markdown",
   "metadata": {},
   "source": [
    "[3.3 Graphs](#3.3)"
   ]
  },
  {
   "cell_type": "markdown",
   "metadata": {},
   "source": [
    "[4. Predict the crime rates in Boston](#predict)"
   ]
  },
  {
   "cell_type": "markdown",
   "metadata": {},
   "source": [
    "[5. Conclusion](#conclusion)"
   ]
  },
  {
   "cell_type": "markdown",
   "metadata": {},
   "source": [
    "Let's first import the usual packages."
   ]
  },
  {
   "cell_type": "code",
   "execution_count": 3,
   "metadata": {},
   "outputs": [],
   "source": [
    "import numpy as np\n",
    "import pandas as pd\n",
    "import matplotlib as mpl\n",
    "import matplotlib.pyplot as plt\n",
    "import seaborn as sns"
   ]
  },
  {
   "cell_type": "markdown",
   "metadata": {},
   "source": [
    "Time to get the data!"
   ]
  },
  {
   "cell_type": "code",
   "execution_count": 4,
   "metadata": {},
   "outputs": [],
   "source": [
    "df = pd.read_csv('crime.csv')"
   ]
  },
  {
   "cell_type": "code",
   "execution_count": 5,
   "metadata": {},
   "outputs": [
    {
     "data": {
      "text/plain": [
       "(358066, 17)"
      ]
     },
     "execution_count": 5,
     "metadata": {},
     "output_type": "execute_result"
    }
   ],
   "source": [
    "df.shape"
   ]
  },
  {
   "cell_type": "code",
   "execution_count": 6,
   "metadata": {},
   "outputs": [
    {
     "data": {
      "text/html": [
       "<div>\n",
       "<style scoped>\n",
       "    .dataframe tbody tr th:only-of-type {\n",
       "        vertical-align: middle;\n",
       "    }\n",
       "\n",
       "    .dataframe tbody tr th {\n",
       "        vertical-align: top;\n",
       "    }\n",
       "\n",
       "    .dataframe thead th {\n",
       "        text-align: right;\n",
       "    }\n",
       "</style>\n",
       "<table border=\"1\" class=\"dataframe\">\n",
       "  <thead>\n",
       "    <tr style=\"text-align: right;\">\n",
       "      <th></th>\n",
       "      <th>incident_number</th>\n",
       "      <th>offense_code</th>\n",
       "      <th>offense_code_group</th>\n",
       "      <th>offense_description</th>\n",
       "      <th>district</th>\n",
       "      <th>reporting_area</th>\n",
       "      <th>shooting</th>\n",
       "      <th>occurred_on_date</th>\n",
       "      <th>year</th>\n",
       "      <th>month</th>\n",
       "      <th>day_of_week</th>\n",
       "      <th>hour</th>\n",
       "      <th>ucr_part</th>\n",
       "      <th>street</th>\n",
       "      <th>lat</th>\n",
       "      <th>long</th>\n",
       "      <th>location</th>\n",
       "    </tr>\n",
       "  </thead>\n",
       "  <tbody>\n",
       "    <tr>\n",
       "      <th>0</th>\n",
       "      <td>I192006902</td>\n",
       "      <td>1402</td>\n",
       "      <td>Vandalism</td>\n",
       "      <td>VANDALISM</td>\n",
       "      <td>C11</td>\n",
       "      <td>364.0</td>\n",
       "      <td>NaN</td>\n",
       "      <td>2019-01-25 22:30:00</td>\n",
       "      <td>2019</td>\n",
       "      <td>1</td>\n",
       "      <td>Friday</td>\n",
       "      <td>22</td>\n",
       "      <td>Part Two</td>\n",
       "      <td>CENTRE ST</td>\n",
       "      <td>42.295064</td>\n",
       "      <td>-71.056725</td>\n",
       "      <td>(42.29506405, -71.05672533)</td>\n",
       "    </tr>\n",
       "    <tr>\n",
       "      <th>1</th>\n",
       "      <td>I192006833</td>\n",
       "      <td>522</td>\n",
       "      <td>Residential Burglary</td>\n",
       "      <td>BURGLARY - RESIDENTIAL - NO FORCE</td>\n",
       "      <td>D14</td>\n",
       "      <td>794.0</td>\n",
       "      <td>NaN</td>\n",
       "      <td>2019-01-25 12:41:00</td>\n",
       "      <td>2019</td>\n",
       "      <td>1</td>\n",
       "      <td>Friday</td>\n",
       "      <td>12</td>\n",
       "      <td>Part One</td>\n",
       "      <td>GLENVILLE AVE</td>\n",
       "      <td>42.349780</td>\n",
       "      <td>-71.134230</td>\n",
       "      <td>(42.34977988, -71.13423049)</td>\n",
       "    </tr>\n",
       "    <tr>\n",
       "      <th>2</th>\n",
       "      <td>I192006763</td>\n",
       "      <td>619</td>\n",
       "      <td>Larceny</td>\n",
       "      <td>LARCENY ALL OTHERS</td>\n",
       "      <td>C11</td>\n",
       "      <td>333.0</td>\n",
       "      <td>NaN</td>\n",
       "      <td>2019-01-09 11:14:00</td>\n",
       "      <td>2019</td>\n",
       "      <td>1</td>\n",
       "      <td>Wednesday</td>\n",
       "      <td>11</td>\n",
       "      <td>Part One</td>\n",
       "      <td>MOUNT EVERETT ST</td>\n",
       "      <td>42.310136</td>\n",
       "      <td>-71.070293</td>\n",
       "      <td>(42.31013569, -71.07029310)</td>\n",
       "    </tr>\n",
       "    <tr>\n",
       "      <th>3</th>\n",
       "      <td>I192006685</td>\n",
       "      <td>3301</td>\n",
       "      <td>Verbal Disputes</td>\n",
       "      <td>VERBAL DISPUTE</td>\n",
       "      <td>A15</td>\n",
       "      <td>58.0</td>\n",
       "      <td>NaN</td>\n",
       "      <td>2019-01-25 23:23:00</td>\n",
       "      <td>2019</td>\n",
       "      <td>1</td>\n",
       "      <td>Friday</td>\n",
       "      <td>23</td>\n",
       "      <td>Part Three</td>\n",
       "      <td>PHIPPS ST</td>\n",
       "      <td>42.376370</td>\n",
       "      <td>-71.067591</td>\n",
       "      <td>(42.37637003, -71.06759097)</td>\n",
       "    </tr>\n",
       "    <tr>\n",
       "      <th>4</th>\n",
       "      <td>I192006619</td>\n",
       "      <td>619</td>\n",
       "      <td>Larceny</td>\n",
       "      <td>LARCENY ALL OTHERS</td>\n",
       "      <td>B2</td>\n",
       "      <td>280.0</td>\n",
       "      <td>NaN</td>\n",
       "      <td>2019-01-25 17:53:00</td>\n",
       "      <td>2019</td>\n",
       "      <td>1</td>\n",
       "      <td>Friday</td>\n",
       "      <td>17</td>\n",
       "      <td>Part One</td>\n",
       "      <td>DUDLEY ST</td>\n",
       "      <td>42.328632</td>\n",
       "      <td>-71.083099</td>\n",
       "      <td>(42.32863172, -71.08309899)</td>\n",
       "    </tr>\n",
       "  </tbody>\n",
       "</table>\n",
       "</div>"
      ],
      "text/plain": [
       "  incident_number  offense_code    offense_code_group  \\\n",
       "0      I192006902          1402             Vandalism   \n",
       "1      I192006833           522  Residential Burglary   \n",
       "2      I192006763           619               Larceny   \n",
       "3      I192006685          3301       Verbal Disputes   \n",
       "4      I192006619           619               Larceny   \n",
       "\n",
       "                 offense_description district  reporting_area shooting  \\\n",
       "0                          VANDALISM      C11           364.0      NaN   \n",
       "1  BURGLARY - RESIDENTIAL - NO FORCE      D14           794.0      NaN   \n",
       "2                 LARCENY ALL OTHERS      C11           333.0      NaN   \n",
       "3                     VERBAL DISPUTE      A15            58.0      NaN   \n",
       "4                 LARCENY ALL OTHERS       B2           280.0      NaN   \n",
       "\n",
       "      occurred_on_date  year  month day_of_week  hour    ucr_part  \\\n",
       "0  2019-01-25 22:30:00  2019      1      Friday    22    Part Two   \n",
       "1  2019-01-25 12:41:00  2019      1      Friday    12    Part One   \n",
       "2  2019-01-09 11:14:00  2019      1   Wednesday    11    Part One   \n",
       "3  2019-01-25 23:23:00  2019      1      Friday    23  Part Three   \n",
       "4  2019-01-25 17:53:00  2019      1      Friday    17    Part One   \n",
       "\n",
       "             street        lat       long                     location  \n",
       "0         CENTRE ST  42.295064 -71.056725  (42.29506405, -71.05672533)  \n",
       "1     GLENVILLE AVE  42.349780 -71.134230  (42.34977988, -71.13423049)  \n",
       "2  MOUNT EVERETT ST  42.310136 -71.070293  (42.31013569, -71.07029310)  \n",
       "3         PHIPPS ST  42.376370 -71.067591  (42.37637003, -71.06759097)  \n",
       "4         DUDLEY ST  42.328632 -71.083099  (42.32863172, -71.08309899)  "
      ]
     },
     "execution_count": 6,
     "metadata": {},
     "output_type": "execute_result"
    }
   ],
   "source": [
    "df.head(5)"
   ]
  },
  {
   "cell_type": "markdown",
   "metadata": {},
   "source": [
    "<a id = 'data_wrangling'></a>\n",
    "[Return to top](#top)\n",
    "# 1. Data Wrangling"
   ]
  },
  {
   "cell_type": "markdown",
   "metadata": {},
   "source": [
    "Since `incident_number` is unique let's make it the index. Then we should drop `location` due to redundancy. Moreover we need to fill the NaNs in `shooting` because NaNs in this case indicate the absence of shooting in the crime."
   ]
  },
  {
   "cell_type": "code",
   "execution_count": 7,
   "metadata": {},
   "outputs": [],
   "source": [
    "df.set_index('incident_number', inplace = True)\n",
    "df['shooting'].fillna(0, inplace = True)\n",
    "df.drop(columns = ['location'], inplace = True)"
   ]
  },
  {
   "cell_type": "code",
   "execution_count": 8,
   "metadata": {},
   "outputs": [
    {
     "data": {
      "text/html": [
       "<div>\n",
       "<style scoped>\n",
       "    .dataframe tbody tr th:only-of-type {\n",
       "        vertical-align: middle;\n",
       "    }\n",
       "\n",
       "    .dataframe tbody tr th {\n",
       "        vertical-align: top;\n",
       "    }\n",
       "\n",
       "    .dataframe thead th {\n",
       "        text-align: right;\n",
       "    }\n",
       "</style>\n",
       "<table border=\"1\" class=\"dataframe\">\n",
       "  <thead>\n",
       "    <tr style=\"text-align: right;\">\n",
       "      <th></th>\n",
       "      <th>offense_code</th>\n",
       "      <th>offense_code_group</th>\n",
       "      <th>offense_description</th>\n",
       "      <th>district</th>\n",
       "      <th>reporting_area</th>\n",
       "      <th>shooting</th>\n",
       "      <th>occurred_on_date</th>\n",
       "      <th>year</th>\n",
       "      <th>month</th>\n",
       "      <th>day_of_week</th>\n",
       "      <th>hour</th>\n",
       "      <th>ucr_part</th>\n",
       "      <th>street</th>\n",
       "      <th>lat</th>\n",
       "      <th>long</th>\n",
       "    </tr>\n",
       "    <tr>\n",
       "      <th>incident_number</th>\n",
       "      <th></th>\n",
       "      <th></th>\n",
       "      <th></th>\n",
       "      <th></th>\n",
       "      <th></th>\n",
       "      <th></th>\n",
       "      <th></th>\n",
       "      <th></th>\n",
       "      <th></th>\n",
       "      <th></th>\n",
       "      <th></th>\n",
       "      <th></th>\n",
       "      <th></th>\n",
       "      <th></th>\n",
       "      <th></th>\n",
       "    </tr>\n",
       "  </thead>\n",
       "  <tbody>\n",
       "    <tr>\n",
       "      <th>I192006902</th>\n",
       "      <td>1402</td>\n",
       "      <td>Vandalism</td>\n",
       "      <td>VANDALISM</td>\n",
       "      <td>C11</td>\n",
       "      <td>364.0</td>\n",
       "      <td>0</td>\n",
       "      <td>2019-01-25 22:30:00</td>\n",
       "      <td>2019</td>\n",
       "      <td>1</td>\n",
       "      <td>Friday</td>\n",
       "      <td>22</td>\n",
       "      <td>Part Two</td>\n",
       "      <td>CENTRE ST</td>\n",
       "      <td>42.295064</td>\n",
       "      <td>-71.056725</td>\n",
       "    </tr>\n",
       "    <tr>\n",
       "      <th>I192006833</th>\n",
       "      <td>522</td>\n",
       "      <td>Residential Burglary</td>\n",
       "      <td>BURGLARY - RESIDENTIAL - NO FORCE</td>\n",
       "      <td>D14</td>\n",
       "      <td>794.0</td>\n",
       "      <td>0</td>\n",
       "      <td>2019-01-25 12:41:00</td>\n",
       "      <td>2019</td>\n",
       "      <td>1</td>\n",
       "      <td>Friday</td>\n",
       "      <td>12</td>\n",
       "      <td>Part One</td>\n",
       "      <td>GLENVILLE AVE</td>\n",
       "      <td>42.349780</td>\n",
       "      <td>-71.134230</td>\n",
       "    </tr>\n",
       "    <tr>\n",
       "      <th>I192006763</th>\n",
       "      <td>619</td>\n",
       "      <td>Larceny</td>\n",
       "      <td>LARCENY ALL OTHERS</td>\n",
       "      <td>C11</td>\n",
       "      <td>333.0</td>\n",
       "      <td>0</td>\n",
       "      <td>2019-01-09 11:14:00</td>\n",
       "      <td>2019</td>\n",
       "      <td>1</td>\n",
       "      <td>Wednesday</td>\n",
       "      <td>11</td>\n",
       "      <td>Part One</td>\n",
       "      <td>MOUNT EVERETT ST</td>\n",
       "      <td>42.310136</td>\n",
       "      <td>-71.070293</td>\n",
       "    </tr>\n",
       "    <tr>\n",
       "      <th>I192006685</th>\n",
       "      <td>3301</td>\n",
       "      <td>Verbal Disputes</td>\n",
       "      <td>VERBAL DISPUTE</td>\n",
       "      <td>A15</td>\n",
       "      <td>58.0</td>\n",
       "      <td>0</td>\n",
       "      <td>2019-01-25 23:23:00</td>\n",
       "      <td>2019</td>\n",
       "      <td>1</td>\n",
       "      <td>Friday</td>\n",
       "      <td>23</td>\n",
       "      <td>Part Three</td>\n",
       "      <td>PHIPPS ST</td>\n",
       "      <td>42.376370</td>\n",
       "      <td>-71.067591</td>\n",
       "    </tr>\n",
       "    <tr>\n",
       "      <th>I192006619</th>\n",
       "      <td>619</td>\n",
       "      <td>Larceny</td>\n",
       "      <td>LARCENY ALL OTHERS</td>\n",
       "      <td>B2</td>\n",
       "      <td>280.0</td>\n",
       "      <td>0</td>\n",
       "      <td>2019-01-25 17:53:00</td>\n",
       "      <td>2019</td>\n",
       "      <td>1</td>\n",
       "      <td>Friday</td>\n",
       "      <td>17</td>\n",
       "      <td>Part One</td>\n",
       "      <td>DUDLEY ST</td>\n",
       "      <td>42.328632</td>\n",
       "      <td>-71.083099</td>\n",
       "    </tr>\n",
       "  </tbody>\n",
       "</table>\n",
       "</div>"
      ],
      "text/plain": [
       "                 offense_code    offense_code_group  \\\n",
       "incident_number                                       \n",
       "I192006902               1402             Vandalism   \n",
       "I192006833                522  Residential Burglary   \n",
       "I192006763                619               Larceny   \n",
       "I192006685               3301       Verbal Disputes   \n",
       "I192006619                619               Larceny   \n",
       "\n",
       "                               offense_description district  reporting_area  \\\n",
       "incident_number                                                               \n",
       "I192006902                               VANDALISM      C11           364.0   \n",
       "I192006833       BURGLARY - RESIDENTIAL - NO FORCE      D14           794.0   \n",
       "I192006763                      LARCENY ALL OTHERS      C11           333.0   \n",
       "I192006685                          VERBAL DISPUTE      A15            58.0   \n",
       "I192006619                      LARCENY ALL OTHERS       B2           280.0   \n",
       "\n",
       "                shooting     occurred_on_date  year  month day_of_week  hour  \\\n",
       "incident_number                                                                \n",
       "I192006902             0  2019-01-25 22:30:00  2019      1      Friday    22   \n",
       "I192006833             0  2019-01-25 12:41:00  2019      1      Friday    12   \n",
       "I192006763             0  2019-01-09 11:14:00  2019      1   Wednesday    11   \n",
       "I192006685             0  2019-01-25 23:23:00  2019      1      Friday    23   \n",
       "I192006619             0  2019-01-25 17:53:00  2019      1      Friday    17   \n",
       "\n",
       "                   ucr_part            street        lat       long  \n",
       "incident_number                                                      \n",
       "I192006902         Part Two         CENTRE ST  42.295064 -71.056725  \n",
       "I192006833         Part One     GLENVILLE AVE  42.349780 -71.134230  \n",
       "I192006763         Part One  MOUNT EVERETT ST  42.310136 -71.070293  \n",
       "I192006685       Part Three         PHIPPS ST  42.376370 -71.067591  \n",
       "I192006619         Part One         DUDLEY ST  42.328632 -71.083099  "
      ]
     },
     "execution_count": 8,
     "metadata": {},
     "output_type": "execute_result"
    }
   ],
   "source": [
    "df.head(5)"
   ]
  },
  {
   "cell_type": "markdown",
   "metadata": {},
   "source": [
    "Now let's check the dtypes."
   ]
  },
  {
   "cell_type": "code",
   "execution_count": 9,
   "metadata": {},
   "outputs": [
    {
     "data": {
      "text/plain": [
       "offense_code             int64\n",
       "offense_code_group      object\n",
       "offense_description     object\n",
       "district                object\n",
       "reporting_area         float64\n",
       "shooting                object\n",
       "occurred_on_date        object\n",
       "year                     int64\n",
       "month                    int64\n",
       "day_of_week             object\n",
       "hour                     int64\n",
       "ucr_part                object\n",
       "street                  object\n",
       "lat                    float64\n",
       "long                   float64\n",
       "dtype: object"
      ]
     },
     "execution_count": 9,
     "metadata": {},
     "output_type": "execute_result"
    }
   ],
   "source": [
    "df.dtypes"
   ]
  },
  {
   "cell_type": "markdown",
   "metadata": {},
   "source": [
    "`reporting_area` should be int64s instead of a float64s. But before that let's first fix the remaining NaNs."
   ]
  },
  {
   "cell_type": "code",
   "execution_count": 10,
   "metadata": {},
   "outputs": [
    {
     "data": {
      "text/plain": [
       "offense_code               0\n",
       "offense_code_group         0\n",
       "offense_description        0\n",
       "district                1948\n",
       "reporting_area         22719\n",
       "shooting                   0\n",
       "occurred_on_date           0\n",
       "year                       0\n",
       "month                      0\n",
       "day_of_week                0\n",
       "hour                       0\n",
       "ucr_part                  99\n",
       "street                 11413\n",
       "lat                    22403\n",
       "long                   22403\n",
       "dtype: int64"
      ]
     },
     "execution_count": 10,
     "metadata": {},
     "output_type": "execute_result"
    }
   ],
   "source": [
    "df.isna().sum()"
   ]
  },
  {
   "cell_type": "markdown",
   "metadata": {},
   "source": [
    "It sees that there are a lot of crimes missing numerous crucial data. They are unlikely to be filled anyway so let's first focus on analyzing data that does not require them. I think we should allow `reporting_area` to be float64 for now."
   ]
  },
  {
   "cell_type": "markdown",
   "metadata": {},
   "source": [
    "<a id = 'drop3'></a>\n",
    "[Return to top](#top)\n",
    "## 1.1 Dropping non-crimes"
   ]
  },
  {
   "cell_type": "markdown",
   "metadata": {},
   "source": [
    "Now let's analyze the crime classes."
   ]
  },
  {
   "cell_type": "code",
   "execution_count": 54,
   "metadata": {},
   "outputs": [],
   "source": [
    "df_od = df.groupby('offense_description').size().reset_index(name = 'counts').set_index('offense_description').sort_values(by = 'counts', ascending = False)"
   ]
  },
  {
   "cell_type": "code",
   "execution_count": 55,
   "metadata": {},
   "outputs": [
    {
     "data": {
      "text/html": [
       "<div>\n",
       "<style scoped>\n",
       "    .dataframe tbody tr th:only-of-type {\n",
       "        vertical-align: middle;\n",
       "    }\n",
       "\n",
       "    .dataframe tbody tr th {\n",
       "        vertical-align: top;\n",
       "    }\n",
       "\n",
       "    .dataframe thead th {\n",
       "        text-align: right;\n",
       "    }\n",
       "</style>\n",
       "<table border=\"1\" class=\"dataframe\">\n",
       "  <thead>\n",
       "    <tr style=\"text-align: right;\">\n",
       "      <th></th>\n",
       "      <th>counts</th>\n",
       "    </tr>\n",
       "    <tr>\n",
       "      <th>offense_description</th>\n",
       "      <th></th>\n",
       "    </tr>\n",
       "  </thead>\n",
       "  <tbody>\n",
       "    <tr>\n",
       "      <th>SICK/INJURED/MEDICAL - PERSON</th>\n",
       "      <td>21449</td>\n",
       "    </tr>\n",
       "    <tr>\n",
       "      <th>INVESTIGATE PERSON</th>\n",
       "      <td>20838</td>\n",
       "    </tr>\n",
       "    <tr>\n",
       "      <th>M/V - LEAVING SCENE - PROPERTY DAMAGE</th>\n",
       "      <td>18234</td>\n",
       "    </tr>\n",
       "    <tr>\n",
       "      <th>VANDALISM</th>\n",
       "      <td>16847</td>\n",
       "    </tr>\n",
       "    <tr>\n",
       "      <th>ASSAULT SIMPLE - BATTERY</th>\n",
       "      <td>16589</td>\n",
       "    </tr>\n",
       "    <tr>\n",
       "      <th>VERBAL DISPUTE</th>\n",
       "      <td>14811</td>\n",
       "    </tr>\n",
       "    <tr>\n",
       "      <th>TOWED MOTOR VEHICLE</th>\n",
       "      <td>12658</td>\n",
       "    </tr>\n",
       "    <tr>\n",
       "      <th>INVESTIGATE PROPERTY</th>\n",
       "      <td>12606</td>\n",
       "    </tr>\n",
       "    <tr>\n",
       "      <th>THREATS TO DO BODILY HARM</th>\n",
       "      <td>10233</td>\n",
       "    </tr>\n",
       "    <tr>\n",
       "      <th>LARCENY THEFT FROM BUILDING</th>\n",
       "      <td>10199</td>\n",
       "    </tr>\n",
       "    <tr>\n",
       "      <th>PROPERTY - LOST</th>\n",
       "      <td>10138</td>\n",
       "    </tr>\n",
       "    <tr>\n",
       "      <th>LARCENY THEFT FROM MV - NON-ACCESSORY</th>\n",
       "      <td>9865</td>\n",
       "    </tr>\n",
       "    <tr>\n",
       "      <th>WARRANT ARREST</th>\n",
       "      <td>9335</td>\n",
       "    </tr>\n",
       "    <tr>\n",
       "      <th>LARCENY SHOPLIFTING</th>\n",
       "      <td>8990</td>\n",
       "    </tr>\n",
       "    <tr>\n",
       "      <th>M/V ACCIDENT - PROPERTY  DAMAGE</th>\n",
       "      <td>7460</td>\n",
       "    </tr>\n",
       "    <tr>\n",
       "      <th>LARCENY ALL OTHERS</th>\n",
       "      <td>6747</td>\n",
       "    </tr>\n",
       "    <tr>\n",
       "      <th>M/V ACCIDENT - PERSONAL INJURY</th>\n",
       "      <td>5679</td>\n",
       "    </tr>\n",
       "    <tr>\n",
       "      <th>ASSAULT - AGGRAVATED - BATTERY</th>\n",
       "      <td>5544</td>\n",
       "    </tr>\n",
       "    <tr>\n",
       "      <th>FRAUD - FALSE PRETENSE / SCHEME</th>\n",
       "      <td>5033</td>\n",
       "    </tr>\n",
       "    <tr>\n",
       "      <th>MISSING PERSON - LOCATED</th>\n",
       "      <td>5000</td>\n",
       "    </tr>\n",
       "    <tr>\n",
       "      <th>HARASSMENT</th>\n",
       "      <td>4568</td>\n",
       "    </tr>\n",
       "    <tr>\n",
       "      <th>MISSING PERSON</th>\n",
       "      <td>4180</td>\n",
       "    </tr>\n",
       "    <tr>\n",
       "      <th>PROPERTY - FOUND</th>\n",
       "      <td>4133</td>\n",
       "    </tr>\n",
       "    <tr>\n",
       "      <th>AUTO THEFT</th>\n",
       "      <td>3958</td>\n",
       "    </tr>\n",
       "    <tr>\n",
       "      <th>TRESPASSING</th>\n",
       "      <td>3625</td>\n",
       "    </tr>\n",
       "    <tr>\n",
       "      <th>FRAUD - CREDIT CARD / ATM FRAUD</th>\n",
       "      <td>3501</td>\n",
       "    </tr>\n",
       "    <tr>\n",
       "      <th>M/V ACCIDENT - OTHER</th>\n",
       "      <td>3368</td>\n",
       "    </tr>\n",
       "    <tr>\n",
       "      <th>ROBBERY - STREET</th>\n",
       "      <td>3341</td>\n",
       "    </tr>\n",
       "    <tr>\n",
       "      <th>ASSAULT - AGGRAVATED</th>\n",
       "      <td>3308</td>\n",
       "    </tr>\n",
       "    <tr>\n",
       "      <th>VAL - VIOLATION OF AUTO LAW - OTHER</th>\n",
       "      <td>3115</td>\n",
       "    </tr>\n",
       "    <tr>\n",
       "      <th>...</th>\n",
       "      <td>...</td>\n",
       "    </tr>\n",
       "    <tr>\n",
       "      <th>LARCENY IN A BUILDING $50 TO $199</th>\n",
       "      <td>2</td>\n",
       "    </tr>\n",
       "    <tr>\n",
       "      <th>LARCENY NON-ACCESSORY FROM VEH. $50 TO $199</th>\n",
       "      <td>2</td>\n",
       "    </tr>\n",
       "    <tr>\n",
       "      <th>PROSTITUTE - COMMON NIGHTWALKER</th>\n",
       "      <td>2</td>\n",
       "    </tr>\n",
       "    <tr>\n",
       "      <th>B&amp;E NON-RESIDENCE DAY - NO PROP TAKEN</th>\n",
       "      <td>2</td>\n",
       "    </tr>\n",
       "    <tr>\n",
       "      <th>DRUGS - POSS CLASS D - MARIJUANA, ETC.</th>\n",
       "      <td>2</td>\n",
       "    </tr>\n",
       "    <tr>\n",
       "      <th>DRUGS - POSS CLASS D - INTENT MFR DIST DISP</th>\n",
       "      <td>2</td>\n",
       "    </tr>\n",
       "    <tr>\n",
       "      <th>BIOLOGICAL THREATS</th>\n",
       "      <td>2</td>\n",
       "    </tr>\n",
       "    <tr>\n",
       "      <th>COUNTERFEITING</th>\n",
       "      <td>2</td>\n",
       "    </tr>\n",
       "    <tr>\n",
       "      <th>LARCENY NON-ACCESSORY FROM VEH. $200 &amp; OVER</th>\n",
       "      <td>2</td>\n",
       "    </tr>\n",
       "    <tr>\n",
       "      <th>ROBBERY ATTEMPT - KNIFE - BANK</th>\n",
       "      <td>2</td>\n",
       "    </tr>\n",
       "    <tr>\n",
       "      <th>DRUGS - POSS CLASS E INTENT TO MF DIST DISP</th>\n",
       "      <td>2</td>\n",
       "    </tr>\n",
       "    <tr>\n",
       "      <th>DISORDERLY PERSON</th>\n",
       "      <td>2</td>\n",
       "    </tr>\n",
       "    <tr>\n",
       "      <th>ROBBERY - UNARMED - RESIDENCE</th>\n",
       "      <td>2</td>\n",
       "    </tr>\n",
       "    <tr>\n",
       "      <th>CHILD ABUSE</th>\n",
       "      <td>1</td>\n",
       "    </tr>\n",
       "    <tr>\n",
       "      <th>PRISONER ATTEMPT TO RESCUE</th>\n",
       "      <td>1</td>\n",
       "    </tr>\n",
       "    <tr>\n",
       "      <th>VIOLATION - RESTRAINING ORDER</th>\n",
       "      <td>1</td>\n",
       "    </tr>\n",
       "    <tr>\n",
       "      <th>DRUGS - GLUE INHALATION</th>\n",
       "      <td>1</td>\n",
       "    </tr>\n",
       "    <tr>\n",
       "      <th>ROBBERY - KNIFE - STREET</th>\n",
       "      <td>1</td>\n",
       "    </tr>\n",
       "    <tr>\n",
       "      <th>KILLING OF FELON BY POLICE</th>\n",
       "      <td>1</td>\n",
       "    </tr>\n",
       "    <tr>\n",
       "      <th>B&amp;E NON-RESIDENCE NIGHT - FORCE</th>\n",
       "      <td>1</td>\n",
       "    </tr>\n",
       "    <tr>\n",
       "      <th>FRAUDS - ALL OTHER</th>\n",
       "      <td>1</td>\n",
       "    </tr>\n",
       "    <tr>\n",
       "      <th>B&amp;E RESIDENCE DAY - NO FORCE</th>\n",
       "      <td>1</td>\n",
       "    </tr>\n",
       "    <tr>\n",
       "      <th>FRAUD - FALSE PRETENSE</th>\n",
       "      <td>1</td>\n",
       "    </tr>\n",
       "    <tr>\n",
       "      <th>ASSAULT &amp; BATTERY D/W - OTHER ON POLICE OFFICER</th>\n",
       "      <td>1</td>\n",
       "    </tr>\n",
       "    <tr>\n",
       "      <th>ASSAULT D/W - KNIFE ON POLICE OFFICER</th>\n",
       "      <td>1</td>\n",
       "    </tr>\n",
       "    <tr>\n",
       "      <th>AUTO THEFT - OUTSIDE - RECOVERED IN BOSTON</th>\n",
       "      <td>1</td>\n",
       "    </tr>\n",
       "    <tr>\n",
       "      <th>AUTO THEFT LEASE/RENT VEHICLE</th>\n",
       "      <td>1</td>\n",
       "    </tr>\n",
       "    <tr>\n",
       "      <th>AUTO THEFT OTHER</th>\n",
       "      <td>1</td>\n",
       "    </tr>\n",
       "    <tr>\n",
       "      <th>FIREARM/WEAPON - CARRY - SELL - RENT</th>\n",
       "      <td>1</td>\n",
       "    </tr>\n",
       "    <tr>\n",
       "      <th>A&amp;B HANDS, FEET, ETC.  - MED. ATTENTION REQ.</th>\n",
       "      <td>1</td>\n",
       "    </tr>\n",
       "  </tbody>\n",
       "</table>\n",
       "<p>243 rows × 1 columns</p>\n",
       "</div>"
      ],
      "text/plain": [
       "                                                 counts\n",
       "offense_description                                    \n",
       "SICK/INJURED/MEDICAL - PERSON                     21449\n",
       "INVESTIGATE PERSON                                20838\n",
       "M/V - LEAVING SCENE - PROPERTY DAMAGE             18234\n",
       "VANDALISM                                         16847\n",
       "ASSAULT SIMPLE - BATTERY                          16589\n",
       "VERBAL DISPUTE                                    14811\n",
       "TOWED MOTOR VEHICLE                               12658\n",
       "INVESTIGATE PROPERTY                              12606\n",
       "THREATS TO DO BODILY HARM                         10233\n",
       "LARCENY THEFT FROM BUILDING                       10199\n",
       "PROPERTY - LOST                                   10138\n",
       "LARCENY THEFT FROM MV - NON-ACCESSORY              9865\n",
       "WARRANT ARREST                                     9335\n",
       "LARCENY SHOPLIFTING                                8990\n",
       "M/V ACCIDENT - PROPERTY  DAMAGE                    7460\n",
       "LARCENY ALL OTHERS                                 6747\n",
       "M/V ACCIDENT - PERSONAL INJURY                     5679\n",
       "ASSAULT - AGGRAVATED - BATTERY                     5544\n",
       "FRAUD - FALSE PRETENSE / SCHEME                    5033\n",
       "MISSING PERSON - LOCATED                           5000\n",
       "HARASSMENT                                         4568\n",
       "MISSING PERSON                                     4180\n",
       "PROPERTY - FOUND                                   4133\n",
       "AUTO THEFT                                         3958\n",
       "TRESPASSING                                        3625\n",
       "FRAUD - CREDIT CARD / ATM FRAUD                    3501\n",
       "M/V ACCIDENT - OTHER                               3368\n",
       "ROBBERY - STREET                                   3341\n",
       "ASSAULT - AGGRAVATED                               3308\n",
       "VAL - VIOLATION OF AUTO LAW - OTHER                3115\n",
       "...                                                 ...\n",
       "LARCENY IN A BUILDING $50 TO $199                     2\n",
       "LARCENY NON-ACCESSORY FROM VEH. $50 TO $199           2\n",
       "PROSTITUTE - COMMON NIGHTWALKER                       2\n",
       "B&E NON-RESIDENCE DAY - NO PROP TAKEN                 2\n",
       "DRUGS - POSS CLASS D - MARIJUANA, ETC.                2\n",
       "DRUGS - POSS CLASS D - INTENT MFR DIST DISP           2\n",
       "BIOLOGICAL THREATS                                    2\n",
       "COUNTERFEITING                                        2\n",
       "LARCENY NON-ACCESSORY FROM VEH. $200 & OVER           2\n",
       "ROBBERY ATTEMPT - KNIFE - BANK                        2\n",
       "DRUGS - POSS CLASS E INTENT TO MF DIST DISP           2\n",
       "DISORDERLY PERSON                                     2\n",
       "ROBBERY - UNARMED - RESIDENCE                         2\n",
       "CHILD ABUSE                                           1\n",
       "PRISONER ATTEMPT TO RESCUE                            1\n",
       "VIOLATION - RESTRAINING ORDER                         1\n",
       "DRUGS - GLUE INHALATION                               1\n",
       "ROBBERY - KNIFE - STREET                              1\n",
       "KILLING OF FELON BY POLICE                            1\n",
       "B&E NON-RESIDENCE NIGHT - FORCE                       1\n",
       "FRAUDS - ALL OTHER                                    1\n",
       "B&E RESIDENCE DAY - NO FORCE                          1\n",
       "FRAUD - FALSE PRETENSE                                1\n",
       "ASSAULT & BATTERY D/W - OTHER ON POLICE OFFICER       1\n",
       "ASSAULT D/W - KNIFE ON POLICE OFFICER                 1\n",
       "AUTO THEFT - OUTSIDE - RECOVERED IN BOSTON            1\n",
       "AUTO THEFT LEASE/RENT VEHICLE                         1\n",
       "AUTO THEFT OTHER                                      1\n",
       "FIREARM/WEAPON - CARRY - SELL - RENT                  1\n",
       "A&B HANDS, FEET, ETC.  - MED. ATTENTION REQ.          1\n",
       "\n",
       "[243 rows x 1 columns]"
      ]
     },
     "execution_count": 55,
     "metadata": {},
     "output_type": "execute_result"
    }
   ],
   "source": [
    "df_od"
   ]
  },
  {
   "cell_type": "markdown",
   "metadata": {},
   "source": [
    "Some large classes here aren't crimes at all. We have to fix that. Let's focus on the UCR Part numbers."
   ]
  },
  {
   "cell_type": "markdown",
   "metadata": {},
   "source": [
    "According to [Wikipedia](https://en.wikipedia.org/wiki/Uniform_Crime_Reports), UCR part I and part II offenses are actually offenses. As for part III let's check what they actually are."
   ]
  },
  {
   "cell_type": "code",
   "execution_count": 56,
   "metadata": {},
   "outputs": [],
   "source": [
    "df_ucr = df.groupby('ucr_part').size().reset_index(name = 'counts').set_index('ucr_part')"
   ]
  },
  {
   "cell_type": "code",
   "execution_count": 57,
   "metadata": {},
   "outputs": [
    {
     "data": {
      "text/html": [
       "<div>\n",
       "<style scoped>\n",
       "    .dataframe tbody tr th:only-of-type {\n",
       "        vertical-align: middle;\n",
       "    }\n",
       "\n",
       "    .dataframe tbody tr th {\n",
       "        vertical-align: top;\n",
       "    }\n",
       "\n",
       "    .dataframe thead th {\n",
       "        text-align: right;\n",
       "    }\n",
       "</style>\n",
       "<table border=\"1\" class=\"dataframe\">\n",
       "  <thead>\n",
       "    <tr style=\"text-align: right;\">\n",
       "      <th></th>\n",
       "      <th>counts</th>\n",
       "    </tr>\n",
       "    <tr>\n",
       "      <th>ucr_part</th>\n",
       "      <th></th>\n",
       "    </tr>\n",
       "  </thead>\n",
       "  <tbody>\n",
       "    <tr>\n",
       "      <th>Other</th>\n",
       "      <td>1401</td>\n",
       "    </tr>\n",
       "    <tr>\n",
       "      <th>Part One</th>\n",
       "      <td>68881</td>\n",
       "    </tr>\n",
       "    <tr>\n",
       "      <th>Part Three</th>\n",
       "      <td>178540</td>\n",
       "    </tr>\n",
       "    <tr>\n",
       "      <th>Part Two</th>\n",
       "      <td>109145</td>\n",
       "    </tr>\n",
       "  </tbody>\n",
       "</table>\n",
       "</div>"
      ],
      "text/plain": [
       "            counts\n",
       "ucr_part          \n",
       "Other         1401\n",
       "Part One     68881\n",
       "Part Three  178540\n",
       "Part Two    109145"
      ]
     },
     "execution_count": 57,
     "metadata": {},
     "output_type": "execute_result"
    }
   ],
   "source": [
    "df_ucr"
   ]
  },
  {
   "cell_type": "code",
   "execution_count": 58,
   "metadata": {},
   "outputs": [],
   "source": [
    "df_p3 = df.loc[df['ucr_part'] == 'Part Three']"
   ]
  },
  {
   "cell_type": "code",
   "execution_count": 61,
   "metadata": {},
   "outputs": [],
   "source": [
    "df_3d = df_p3.groupby('offense_description').size().reset_index(name = 'counts').set_index('offense_description')"
   ]
  },
  {
   "cell_type": "code",
   "execution_count": 62,
   "metadata": {},
   "outputs": [
    {
     "data": {
      "text/html": [
       "<div>\n",
       "<style scoped>\n",
       "    .dataframe tbody tr th:only-of-type {\n",
       "        vertical-align: middle;\n",
       "    }\n",
       "\n",
       "    .dataframe tbody tr th {\n",
       "        vertical-align: top;\n",
       "    }\n",
       "\n",
       "    .dataframe thead th {\n",
       "        text-align: right;\n",
       "    }\n",
       "</style>\n",
       "<table border=\"1\" class=\"dataframe\">\n",
       "  <thead>\n",
       "    <tr style=\"text-align: right;\">\n",
       "      <th></th>\n",
       "      <th>counts</th>\n",
       "    </tr>\n",
       "    <tr>\n",
       "      <th>offense_description</th>\n",
       "      <th></th>\n",
       "    </tr>\n",
       "  </thead>\n",
       "  <tbody>\n",
       "    <tr>\n",
       "      <th>AIRCRAFT INCIDENTS</th>\n",
       "      <td>49</td>\n",
       "    </tr>\n",
       "    <tr>\n",
       "      <th>ANIMAL CONTROL - DOG BITES - ETC.</th>\n",
       "      <td>400</td>\n",
       "    </tr>\n",
       "    <tr>\n",
       "      <th>ANIMAL INCIDENTS</th>\n",
       "      <td>308</td>\n",
       "    </tr>\n",
       "    <tr>\n",
       "      <th>DANGEROUS OR HAZARDOUS CONDITION</th>\n",
       "      <td>335</td>\n",
       "    </tr>\n",
       "    <tr>\n",
       "      <th>DEATH INVESTIGATION</th>\n",
       "      <td>1339</td>\n",
       "    </tr>\n",
       "    <tr>\n",
       "      <th>DEMONSTRATIONS/RIOT</th>\n",
       "      <td>293</td>\n",
       "    </tr>\n",
       "    <tr>\n",
       "      <th>EXPLOSIVES - TURNED IN OR FOUND</th>\n",
       "      <td>16</td>\n",
       "    </tr>\n",
       "    <tr>\n",
       "      <th>FIRE REPORT - CAR, BRUSH, ETC.</th>\n",
       "      <td>586</td>\n",
       "    </tr>\n",
       "    <tr>\n",
       "      <th>FIRE REPORT - HOUSE, BUILDING, ETC.</th>\n",
       "      <td>1393</td>\n",
       "    </tr>\n",
       "    <tr>\n",
       "      <th>FIREARM/WEAPON - ACCIDENTAL INJURY / DEATH</th>\n",
       "      <td>11</td>\n",
       "    </tr>\n",
       "    <tr>\n",
       "      <th>FIREARM/WEAPON - FOUND OR CONFISCATED</th>\n",
       "      <td>770</td>\n",
       "    </tr>\n",
       "    <tr>\n",
       "      <th>FIREARM/WEAPON - LOST</th>\n",
       "      <td>12</td>\n",
       "    </tr>\n",
       "    <tr>\n",
       "      <th>GATHERING CAUSING ANNOYANCE</th>\n",
       "      <td>27</td>\n",
       "    </tr>\n",
       "    <tr>\n",
       "      <th>HARBOR INCIDENT / VIOLATION</th>\n",
       "      <td>248</td>\n",
       "    </tr>\n",
       "    <tr>\n",
       "      <th>INJURY BICYCLE NO M/V INVOLVED</th>\n",
       "      <td>61</td>\n",
       "    </tr>\n",
       "    <tr>\n",
       "      <th>INTIMIDATING WITNESS</th>\n",
       "      <td>345</td>\n",
       "    </tr>\n",
       "    <tr>\n",
       "      <th>INVESTIGATE PERSON</th>\n",
       "      <td>20833</td>\n",
       "    </tr>\n",
       "    <tr>\n",
       "      <th>INVESTIGATE PROPERTY</th>\n",
       "      <td>12606</td>\n",
       "    </tr>\n",
       "    <tr>\n",
       "      <th>INVESTIGATION FOR ANOTHER AGENCY</th>\n",
       "      <td>220</td>\n",
       "    </tr>\n",
       "    <tr>\n",
       "      <th>LANDLORD - TENANT SERVICE</th>\n",
       "      <td>1108</td>\n",
       "    </tr>\n",
       "    <tr>\n",
       "      <th>LICENSE PREMISE VIOLATION</th>\n",
       "      <td>1859</td>\n",
       "    </tr>\n",
       "    <tr>\n",
       "      <th>M/V - LEAVING SCENE - PERSONAL INJURY</th>\n",
       "      <td>1454</td>\n",
       "    </tr>\n",
       "    <tr>\n",
       "      <th>M/V - LEAVING SCENE - PROPERTY DAMAGE</th>\n",
       "      <td>18234</td>\n",
       "    </tr>\n",
       "    <tr>\n",
       "      <th>M/V ACCIDENT - INVOLVING BICYCLE - NO INJURY</th>\n",
       "      <td>470</td>\n",
       "    </tr>\n",
       "    <tr>\n",
       "      <th>M/V ACCIDENT - INVOLVING PEDESTRIAN - NO INJURY</th>\n",
       "      <td>487</td>\n",
       "    </tr>\n",
       "    <tr>\n",
       "      <th>M/V ACCIDENT - INVOLVING  BICYCLE - INJURY</th>\n",
       "      <td>1018</td>\n",
       "    </tr>\n",
       "    <tr>\n",
       "      <th>M/V ACCIDENT - OTHER</th>\n",
       "      <td>3368</td>\n",
       "    </tr>\n",
       "    <tr>\n",
       "      <th>M/V ACCIDENT - OTHER CITY VEHICLE</th>\n",
       "      <td>820</td>\n",
       "    </tr>\n",
       "    <tr>\n",
       "      <th>M/V ACCIDENT - PERSONAL INJURY</th>\n",
       "      <td>5679</td>\n",
       "    </tr>\n",
       "    <tr>\n",
       "      <th>M/V ACCIDENT - POLICE VEHICLE</th>\n",
       "      <td>862</td>\n",
       "    </tr>\n",
       "    <tr>\n",
       "      <th>M/V ACCIDENT - PROPERTY  DAMAGE</th>\n",
       "      <td>7460</td>\n",
       "    </tr>\n",
       "    <tr>\n",
       "      <th>M/V ACCIDENT INVOLVING PEDESTRIAN - INJURY</th>\n",
       "      <td>1860</td>\n",
       "    </tr>\n",
       "    <tr>\n",
       "      <th>M/V PLATES - LOST</th>\n",
       "      <td>556</td>\n",
       "    </tr>\n",
       "    <tr>\n",
       "      <th>MISSING PERSON</th>\n",
       "      <td>4180</td>\n",
       "    </tr>\n",
       "    <tr>\n",
       "      <th>MISSING PERSON - LOCATED</th>\n",
       "      <td>5000</td>\n",
       "    </tr>\n",
       "    <tr>\n",
       "      <th>MISSING PERSON - NOT REPORTED - LOCATED</th>\n",
       "      <td>669</td>\n",
       "    </tr>\n",
       "    <tr>\n",
       "      <th>NOISY PARTY/RADIO-ARREST</th>\n",
       "      <td>31</td>\n",
       "    </tr>\n",
       "    <tr>\n",
       "      <th>NOISY PARTY/RADIO-NO ARREST</th>\n",
       "      <td>672</td>\n",
       "    </tr>\n",
       "    <tr>\n",
       "      <th>PRISONER - SUICIDE / SUICIDE ATTEMPT</th>\n",
       "      <td>23</td>\n",
       "    </tr>\n",
       "    <tr>\n",
       "      <th>PROPERTY - ACCIDENTAL DAMAGE</th>\n",
       "      <td>1016</td>\n",
       "    </tr>\n",
       "    <tr>\n",
       "      <th>PROPERTY - FOUND</th>\n",
       "      <td>4133</td>\n",
       "    </tr>\n",
       "    <tr>\n",
       "      <th>PROPERTY - LOST</th>\n",
       "      <td>10138</td>\n",
       "    </tr>\n",
       "    <tr>\n",
       "      <th>PROPERTY - LOST THEN LOCATED</th>\n",
       "      <td>264</td>\n",
       "    </tr>\n",
       "    <tr>\n",
       "      <th>PROPERTY - MISSING</th>\n",
       "      <td>1004</td>\n",
       "    </tr>\n",
       "    <tr>\n",
       "      <th>PROTECTIVE CUSTODY / SAFEKEEPING</th>\n",
       "      <td>29</td>\n",
       "    </tr>\n",
       "    <tr>\n",
       "      <th>REPORT AFFECTING OTHER DEPTS.</th>\n",
       "      <td>178</td>\n",
       "    </tr>\n",
       "    <tr>\n",
       "      <th>SEARCH WARRANT</th>\n",
       "      <td>1107</td>\n",
       "    </tr>\n",
       "    <tr>\n",
       "      <th>SERVICE TO OTHER PD INSIDE OF MA.</th>\n",
       "      <td>3021</td>\n",
       "    </tr>\n",
       "    <tr>\n",
       "      <th>SERVICE TO OTHER PD OUTSIDE OF MA.</th>\n",
       "      <td>213</td>\n",
       "    </tr>\n",
       "    <tr>\n",
       "      <th>SICK/INJURED/MEDICAL - PERSON</th>\n",
       "      <td>21449</td>\n",
       "    </tr>\n",
       "    <tr>\n",
       "      <th>SICK/INJURED/MEDICAL - POLICE</th>\n",
       "      <td>1571</td>\n",
       "    </tr>\n",
       "    <tr>\n",
       "      <th>SUDDEN DEATH</th>\n",
       "      <td>1555</td>\n",
       "    </tr>\n",
       "    <tr>\n",
       "      <th>SUICIDE / SUICIDE ATTEMPT</th>\n",
       "      <td>396</td>\n",
       "    </tr>\n",
       "    <tr>\n",
       "      <th>TOWED MOTOR VEHICLE</th>\n",
       "      <td>12658</td>\n",
       "    </tr>\n",
       "    <tr>\n",
       "      <th>VERBAL DISPUTE</th>\n",
       "      <td>14811</td>\n",
       "    </tr>\n",
       "    <tr>\n",
       "      <th>WARRANT ARREST</th>\n",
       "      <td>9335</td>\n",
       "    </tr>\n",
       "  </tbody>\n",
       "</table>\n",
       "</div>"
      ],
      "text/plain": [
       "                                                 counts\n",
       "offense_description                                    \n",
       "AIRCRAFT INCIDENTS                                   49\n",
       "ANIMAL CONTROL - DOG BITES - ETC.                   400\n",
       "ANIMAL INCIDENTS                                    308\n",
       "DANGEROUS OR HAZARDOUS CONDITION                    335\n",
       "DEATH INVESTIGATION                                1339\n",
       "DEMONSTRATIONS/RIOT                                 293\n",
       "EXPLOSIVES - TURNED IN OR FOUND                      16\n",
       "FIRE REPORT - CAR, BRUSH, ETC.                      586\n",
       "FIRE REPORT - HOUSE, BUILDING, ETC.                1393\n",
       "FIREARM/WEAPON - ACCIDENTAL INJURY / DEATH           11\n",
       "FIREARM/WEAPON - FOUND OR CONFISCATED               770\n",
       "FIREARM/WEAPON - LOST                                12\n",
       "GATHERING CAUSING ANNOYANCE                          27\n",
       "HARBOR INCIDENT / VIOLATION                         248\n",
       "INJURY BICYCLE NO M/V INVOLVED                       61\n",
       "INTIMIDATING WITNESS                                345\n",
       "INVESTIGATE PERSON                                20833\n",
       "INVESTIGATE PROPERTY                              12606\n",
       "INVESTIGATION FOR ANOTHER AGENCY                    220\n",
       "LANDLORD - TENANT SERVICE                          1108\n",
       "LICENSE PREMISE VIOLATION                          1859\n",
       "M/V - LEAVING SCENE - PERSONAL INJURY              1454\n",
       "M/V - LEAVING SCENE - PROPERTY DAMAGE             18234\n",
       "M/V ACCIDENT - INVOLVING BICYCLE - NO INJURY        470\n",
       "M/V ACCIDENT - INVOLVING PEDESTRIAN - NO INJURY     487\n",
       "M/V ACCIDENT - INVOLVING  BICYCLE - INJURY         1018\n",
       "M/V ACCIDENT - OTHER                               3368\n",
       "M/V ACCIDENT - OTHER CITY VEHICLE                   820\n",
       "M/V ACCIDENT - PERSONAL INJURY                     5679\n",
       "M/V ACCIDENT - POLICE VEHICLE                       862\n",
       "M/V ACCIDENT - PROPERTY  DAMAGE                    7460\n",
       "M/V ACCIDENT INVOLVING PEDESTRIAN - INJURY         1860\n",
       "M/V PLATES - LOST                                   556\n",
       "MISSING PERSON                                     4180\n",
       "MISSING PERSON - LOCATED                           5000\n",
       "MISSING PERSON - NOT REPORTED - LOCATED             669\n",
       "NOISY PARTY/RADIO-ARREST                             31\n",
       "NOISY PARTY/RADIO-NO ARREST                         672\n",
       "PRISONER - SUICIDE / SUICIDE ATTEMPT                 23\n",
       "PROPERTY - ACCIDENTAL DAMAGE                       1016\n",
       "PROPERTY - FOUND                                   4133\n",
       "PROPERTY - LOST                                   10138\n",
       "PROPERTY - LOST THEN LOCATED                        264\n",
       "PROPERTY - MISSING                                 1004\n",
       "PROTECTIVE CUSTODY / SAFEKEEPING                     29\n",
       "REPORT AFFECTING OTHER DEPTS.                       178\n",
       "SEARCH WARRANT                                     1107\n",
       "SERVICE TO OTHER PD INSIDE OF MA.                  3021\n",
       "SERVICE TO OTHER PD OUTSIDE OF MA.                  213\n",
       "SICK/INJURED/MEDICAL - PERSON                     21449\n",
       "SICK/INJURED/MEDICAL - POLICE                      1571\n",
       "SUDDEN DEATH                                       1555\n",
       "SUICIDE / SUICIDE ATTEMPT                           396\n",
       "TOWED MOTOR VEHICLE                               12658\n",
       "VERBAL DISPUTE                                    14811\n",
       "WARRANT ARREST                                     9335"
      ]
     },
     "execution_count": 62,
     "metadata": {},
     "output_type": "execute_result"
    }
   ],
   "source": [
    "df_3d"
   ]
  },
  {
   "cell_type": "markdown",
   "metadata": {},
   "source": [
    "Most of them are non-criminal or unrelated to what we usually think of as \"crimes\". I think we should ignore the entire part 3 or at least most part 3 incidents. Our report is about crime in Boston, not towed motor vehicles in Boston or accidents in Boston."
   ]
  },
  {
   "cell_type": "markdown",
   "metadata": {},
   "source": [
    "Now let's focus on \"Other\". What does that mean?"
   ]
  },
  {
   "cell_type": "code",
   "execution_count": 63,
   "metadata": {},
   "outputs": [],
   "source": [
    "df_other = df.loc[df['ucr_part'] == 'Other']"
   ]
  },
  {
   "cell_type": "code",
   "execution_count": 64,
   "metadata": {},
   "outputs": [],
   "source": [
    "df_otherd = df_other.groupby('offense_description').size().reset_index(name = 'counts').set_index('offense_description')"
   ]
  },
  {
   "cell_type": "code",
   "execution_count": 66,
   "metadata": {},
   "outputs": [
    {
     "data": {
      "text/html": [
       "<div>\n",
       "<style scoped>\n",
       "    .dataframe tbody tr th:only-of-type {\n",
       "        vertical-align: middle;\n",
       "    }\n",
       "\n",
       "    .dataframe tbody tr th {\n",
       "        vertical-align: top;\n",
       "    }\n",
       "\n",
       "    .dataframe thead th {\n",
       "        text-align: right;\n",
       "    }\n",
       "</style>\n",
       "<table border=\"1\" class=\"dataframe\">\n",
       "  <thead>\n",
       "    <tr style=\"text-align: right;\">\n",
       "      <th></th>\n",
       "      <th>counts</th>\n",
       "    </tr>\n",
       "    <tr>\n",
       "      <th>offense_description</th>\n",
       "      <th></th>\n",
       "    </tr>\n",
       "  </thead>\n",
       "  <tbody>\n",
       "    <tr>\n",
       "      <th>ARSON</th>\n",
       "      <td>98</td>\n",
       "    </tr>\n",
       "    <tr>\n",
       "      <th>AUTO THEFT - OUTSIDE - RECOVERED IN BOSTON</th>\n",
       "      <td>1</td>\n",
       "    </tr>\n",
       "    <tr>\n",
       "      <th>B&amp;E NON-RESIDENCE DAY - NO PROP TAKEN</th>\n",
       "      <td>2</td>\n",
       "    </tr>\n",
       "    <tr>\n",
       "      <th>B&amp;E RESIDENCE DAY - NO PROP TAKEN</th>\n",
       "      <td>3</td>\n",
       "    </tr>\n",
       "    <tr>\n",
       "      <th>KILLING OF FELON BY POLICE</th>\n",
       "      <td>1</td>\n",
       "    </tr>\n",
       "    <tr>\n",
       "      <th>MANSLAUGHTER - NON-VEHICLE - NEGLIGENCE</th>\n",
       "      <td>2</td>\n",
       "    </tr>\n",
       "    <tr>\n",
       "      <th>MANSLAUGHTER - VEHICLE - NEGLIGENCE</th>\n",
       "      <td>6</td>\n",
       "    </tr>\n",
       "    <tr>\n",
       "      <th>PROPERTY - CONCEALING LEASED</th>\n",
       "      <td>30</td>\n",
       "    </tr>\n",
       "    <tr>\n",
       "      <th>RECOVERED - MV RECOVERED IN BOSTON (STOLEN OUTSIDE BOSTON)</th>\n",
       "      <td>1178</td>\n",
       "    </tr>\n",
       "    <tr>\n",
       "      <th>RECOVERED STOLEN PLATE</th>\n",
       "      <td>80</td>\n",
       "    </tr>\n",
       "  </tbody>\n",
       "</table>\n",
       "</div>"
      ],
      "text/plain": [
       "                                                    counts\n",
       "offense_description                                       \n",
       "ARSON                                                   98\n",
       "AUTO THEFT - OUTSIDE - RECOVERED IN BOSTON               1\n",
       "B&E NON-RESIDENCE DAY - NO PROP TAKEN                    2\n",
       "B&E RESIDENCE DAY - NO PROP TAKEN                        3\n",
       "KILLING OF FELON BY POLICE                               1\n",
       "MANSLAUGHTER - NON-VEHICLE - NEGLIGENCE                  2\n",
       "MANSLAUGHTER - VEHICLE - NEGLIGENCE                      6\n",
       "PROPERTY - CONCEALING LEASED                            30\n",
       "RECOVERED - MV RECOVERED IN BOSTON (STOLEN OUTS...    1178\n",
       "RECOVERED STOLEN PLATE                                  80"
      ]
     },
     "execution_count": 66,
     "metadata": {},
     "output_type": "execute_result"
    }
   ],
   "source": [
    "df_otherd"
   ]
  },
  {
   "cell_type": "markdown",
   "metadata": {},
   "source": [
    "OK so these are almost all crimes or at the very least these are crime-related. This will be included then."
   ]
  },
  {
   "cell_type": "markdown",
   "metadata": {},
   "source": [
    "What about NaN?"
   ]
  },
  {
   "cell_type": "code",
   "execution_count": 68,
   "metadata": {},
   "outputs": [],
   "source": [
    "df_ucrna = df.loc[df['ucr_part'].isnull()]"
   ]
  },
  {
   "cell_type": "code",
   "execution_count": 69,
   "metadata": {},
   "outputs": [],
   "source": [
    "df_nad = df_ucrna.groupby('offense_description').size().reset_index(name = 'counts').set_index('offense_description')"
   ]
  },
  {
   "cell_type": "code",
   "execution_count": 70,
   "metadata": {},
   "outputs": [
    {
     "data": {
      "text/html": [
       "<div>\n",
       "<style scoped>\n",
       "    .dataframe tbody tr th:only-of-type {\n",
       "        vertical-align: middle;\n",
       "    }\n",
       "\n",
       "    .dataframe tbody tr th {\n",
       "        vertical-align: top;\n",
       "    }\n",
       "\n",
       "    .dataframe thead th {\n",
       "        text-align: right;\n",
       "    }\n",
       "</style>\n",
       "<table border=\"1\" class=\"dataframe\">\n",
       "  <thead>\n",
       "    <tr style=\"text-align: right;\">\n",
       "      <th></th>\n",
       "      <th>counts</th>\n",
       "    </tr>\n",
       "    <tr>\n",
       "      <th>offense_description</th>\n",
       "      <th></th>\n",
       "    </tr>\n",
       "  </thead>\n",
       "  <tbody>\n",
       "    <tr>\n",
       "      <th>HOME INVASION</th>\n",
       "      <td>84</td>\n",
       "    </tr>\n",
       "    <tr>\n",
       "      <th>HUMAN TRAFFICKING - COMMERCIAL SEX ACTS</th>\n",
       "      <td>8</td>\n",
       "    </tr>\n",
       "    <tr>\n",
       "      <th>HUMAN TRAFFICKING - INVOLUNTARY SERVITUDE</th>\n",
       "      <td>2</td>\n",
       "    </tr>\n",
       "    <tr>\n",
       "      <th>INVESTIGATE PERSON</th>\n",
       "      <td>5</td>\n",
       "    </tr>\n",
       "  </tbody>\n",
       "</table>\n",
       "</div>"
      ],
      "text/plain": [
       "                                           counts\n",
       "offense_description                              \n",
       "HOME INVASION                                  84\n",
       "HUMAN TRAFFICKING - COMMERCIAL SEX ACTS         8\n",
       "HUMAN TRAFFICKING - INVOLUNTARY SERVITUDE       2\n",
       "INVESTIGATE PERSON                              5"
      ]
     },
     "execution_count": 70,
     "metadata": {},
     "output_type": "execute_result"
    }
   ],
   "source": [
    "df_nad"
   ]
  },
  {
   "cell_type": "markdown",
   "metadata": {},
   "source": [
    "OK so most of them are crimes. I will drop the 5 investigate person incidents though. Now we will drop all Part 3 and investigate person incidents."
   ]
  },
  {
   "cell_type": "code",
   "execution_count": 71,
   "metadata": {},
   "outputs": [],
   "source": [
    "df_clean = df.loc[(df['ucr_part'] != 'Part Three') & (df['offense_description'] != 'INVESTIGATE PERSON')]"
   ]
  },
  {
   "cell_type": "code",
   "execution_count": 72,
   "metadata": {},
   "outputs": [
    {
     "data": {
      "text/plain": [
       "(179521, 15)"
      ]
     },
     "execution_count": 72,
     "metadata": {},
     "output_type": "execute_result"
    }
   ],
   "source": [
    "df_clean.shape"
   ]
  },
  {
   "cell_type": "markdown",
   "metadata": {},
   "source": [
    "<a id = 'pre_anal'></a>\n",
    "[Return to top](#top)\n",
    "# 2. Preliminary Analysis"
   ]
  },
  {
   "cell_type": "markdown",
   "metadata": {},
   "source": [
    "<a id = 'day'></a>\n",
    "[Return to top](#top)\n",
    "## 2.1 Crime and day of the week"
   ]
  },
  {
   "cell_type": "code",
   "execution_count": 73,
   "metadata": {},
   "outputs": [],
   "source": [
    "df_day = df_clean.groupby('day_of_week').size().reset_index(name = 'counts').set_index('day_of_week')"
   ]
  },
  {
   "cell_type": "code",
   "execution_count": 74,
   "metadata": {},
   "outputs": [
    {
     "data": {
      "text/html": [
       "<div>\n",
       "<style scoped>\n",
       "    .dataframe tbody tr th:only-of-type {\n",
       "        vertical-align: middle;\n",
       "    }\n",
       "\n",
       "    .dataframe tbody tr th {\n",
       "        vertical-align: top;\n",
       "    }\n",
       "\n",
       "    .dataframe thead th {\n",
       "        text-align: right;\n",
       "    }\n",
       "</style>\n",
       "<table border=\"1\" class=\"dataframe\">\n",
       "  <thead>\n",
       "    <tr style=\"text-align: right;\">\n",
       "      <th></th>\n",
       "      <th>counts</th>\n",
       "    </tr>\n",
       "    <tr>\n",
       "      <th>day_of_week</th>\n",
       "      <th></th>\n",
       "    </tr>\n",
       "  </thead>\n",
       "  <tbody>\n",
       "    <tr>\n",
       "      <th>Friday</th>\n",
       "      <td>27262</td>\n",
       "    </tr>\n",
       "    <tr>\n",
       "      <th>Monday</th>\n",
       "      <td>25787</td>\n",
       "    </tr>\n",
       "    <tr>\n",
       "      <th>Saturday</th>\n",
       "      <td>24780</td>\n",
       "    </tr>\n",
       "    <tr>\n",
       "      <th>Sunday</th>\n",
       "      <td>22123</td>\n",
       "    </tr>\n",
       "    <tr>\n",
       "      <th>Thursday</th>\n",
       "      <td>26480</td>\n",
       "    </tr>\n",
       "    <tr>\n",
       "      <th>Tuesday</th>\n",
       "      <td>26361</td>\n",
       "    </tr>\n",
       "    <tr>\n",
       "      <th>Wednesday</th>\n",
       "      <td>26728</td>\n",
       "    </tr>\n",
       "  </tbody>\n",
       "</table>\n",
       "</div>"
      ],
      "text/plain": [
       "             counts\n",
       "day_of_week        \n",
       "Friday        27262\n",
       "Monday        25787\n",
       "Saturday      24780\n",
       "Sunday        22123\n",
       "Thursday      26480\n",
       "Tuesday       26361\n",
       "Wednesday     26728"
      ]
     },
     "execution_count": 74,
     "metadata": {},
     "output_type": "execute_result"
    }
   ],
   "source": [
    "df_day"
   ]
  },
  {
   "cell_type": "markdown",
   "metadata": {},
   "source": [
    "It seems that Fridays in Boston are unusually filled with crimes while the opposite is true for Sundays and to a less extant Saturdays and Mondays."
   ]
  },
  {
   "cell_type": "markdown",
   "metadata": {},
   "source": [
    "Before plotting the graph we have to fix the ordering."
   ]
  },
  {
   "cell_type": "code",
   "execution_count": 75,
   "metadata": {},
   "outputs": [],
   "source": [
    "df_day.reset_index(inplace = True)"
   ]
  },
  {
   "cell_type": "code",
   "execution_count": 76,
   "metadata": {},
   "outputs": [],
   "source": [
    "df_day['day_of_week'] = pd.Categorical(df_day['day_of_week'], categories = ['Sunday','Monday','Tuesday','Wednesday','Thursday','Friday','Saturday'], ordered = True)"
   ]
  },
  {
   "cell_type": "code",
   "execution_count": 77,
   "metadata": {},
   "outputs": [],
   "source": [
    "df_day.set_index('day_of_week', inplace = True)"
   ]
  },
  {
   "cell_type": "code",
   "execution_count": 78,
   "metadata": {},
   "outputs": [],
   "source": [
    "df_day.sort_values(by = 'day_of_week', inplace = True)"
   ]
  },
  {
   "cell_type": "markdown",
   "metadata": {},
   "source": [
    "Time to do some plotting!"
   ]
  },
  {
   "cell_type": "code",
   "execution_count": 129,
   "metadata": {},
   "outputs": [
    {
     "data": {
      "image/png": "[encoded data removed]",
      "text/plain": [
       "<Figure size 720x504 with 1 Axes>"
      ]
     },
     "metadata": {
      "needs_background": "light"
     },
     "output_type": "display_data"
    }
   ],
   "source": [
    "fig = plt.figure(figsize = (10,7))\n",
    "ax = plt.subplot(111)\n",
    "ind = np.arange(7)\n",
    "crimes_by_day = df_day['counts']\n",
    "rects = ax.bar(ind, crimes_by_day, width = 0.8, color = ['green','olive','olive','olive','olive','red','green'])\n",
    "ax.set_xticks(ind)\n",
    "ax.set_xticklabels(['Sun', 'Mon', 'Tue', 'Wed', 'Thu', 'Fri', 'Sat'])\n",
    "ax.set_title('Crimes in Boston by days of the week')\n",
    "ax.set_ylabel('Amount of crimes')\n",
    "for rect in rects:\n",
    "    height = rect.get_height()\n",
    "    ax.text(rect.get_x() + 0.15, 1.01 * height, height, fontsize = 12)"
   ]
  },
  {
   "cell_type": "markdown",
   "metadata": {},
   "source": [
    "<a id = 'year'></a>\n",
    "[Return to top](#top)\n",
    "## 2.2 Is the crime problem in Boston getting better or worse?"
   ]
  },
  {
   "cell_type": "code",
   "execution_count": 80,
   "metadata": {},
   "outputs": [],
   "source": [
    "df_year = df_clean.groupby('year').size().reset_index(name = 'counts').set_index('year')"
   ]
  },
  {
   "cell_type": "code",
   "execution_count": 81,
   "metadata": {},
   "outputs": [
    {
     "data": {
      "text/html": [
       "<div>\n",
       "<style scoped>\n",
       "    .dataframe tbody tr th:only-of-type {\n",
       "        vertical-align: middle;\n",
       "    }\n",
       "\n",
       "    .dataframe tbody tr th {\n",
       "        vertical-align: top;\n",
       "    }\n",
       "\n",
       "    .dataframe thead th {\n",
       "        text-align: right;\n",
       "    }\n",
       "</style>\n",
       "<table border=\"1\" class=\"dataframe\">\n",
       "  <thead>\n",
       "    <tr style=\"text-align: right;\">\n",
       "      <th></th>\n",
       "      <th>counts</th>\n",
       "    </tr>\n",
       "    <tr>\n",
       "      <th>year</th>\n",
       "      <th></th>\n",
       "    </tr>\n",
       "  </thead>\n",
       "  <tbody>\n",
       "    <tr>\n",
       "      <th>2015</th>\n",
       "      <td>30296</td>\n",
       "    </tr>\n",
       "    <tr>\n",
       "      <th>2016</th>\n",
       "      <td>50512</td>\n",
       "    </tr>\n",
       "    <tr>\n",
       "      <th>2017</th>\n",
       "      <td>48455</td>\n",
       "    </tr>\n",
       "    <tr>\n",
       "      <th>2018</th>\n",
       "      <td>47489</td>\n",
       "    </tr>\n",
       "    <tr>\n",
       "      <th>2019</th>\n",
       "      <td>2769</td>\n",
       "    </tr>\n",
       "  </tbody>\n",
       "</table>\n",
       "</div>"
      ],
      "text/plain": [
       "      counts\n",
       "year        \n",
       "2015   30296\n",
       "2016   50512\n",
       "2017   48455\n",
       "2018   47489\n",
       "2019    2769"
      ]
     },
     "execution_count": 81,
     "metadata": {},
     "output_type": "execute_result"
    }
   ],
   "source": [
    "df_year"
   ]
  },
  {
   "cell_type": "markdown",
   "metadata": {},
   "source": [
    "Disregarding 2015 and 2019 since there are not enough data about them in the data set it is easy to see that the crime situation in 2017 is slightly better than the situation in 2016. The crime situation in 2018 is slightly better than the situation in 2017."
   ]
  },
  {
   "cell_type": "code",
   "execution_count": 82,
   "metadata": {},
   "outputs": [],
   "source": [
    "df_year.drop(labels = [2015,2019], inplace = True)"
   ]
  },
  {
   "cell_type": "code",
   "execution_count": 142,
   "metadata": {},
   "outputs": [
    {
     "data": {
      "image/png": "[encoded data removed]",
      "text/plain": [
       "<Figure size 360x504 with 1 Axes>"
      ]
     },
     "metadata": {
      "needs_background": "light"
     },
     "output_type": "display_data"
    }
   ],
   "source": [
    "fig2 = plt.figure(figsize = (5,7))\n",
    "ind2 = np.arange(3)\n",
    "ax2 = plt.subplot(111)\n",
    "rects = ax2.bar(ind2, df_year['counts'], width = 0.4, color = ['red','green','blue'])\n",
    "ax2.set_xticks(ind2)\n",
    "ax2.set_xticklabels([2016,2017,2018])\n",
    "ax2.set_xlabel('Year')\n",
    "ax2.set_ylabel('Amount of crimes')\n",
    "ax2.set_title('Crimes in Boston by year')\n",
    "for rect in rects:\n",
    "    height = rect.get_height()\n",
    "    ax2.text(rect.get_x() - 0.01, 1.01 * height, height, fontsize = 14)"
   ]
  },
  {
   "cell_type": "markdown",
   "metadata": {},
   "source": [
    "<a id = 'month'></a>\n",
    "[Return to top](#top)\n",
    "## 2.3 Crime and month"
   ]
  },
  {
   "cell_type": "markdown",
   "metadata": {},
   "source": [
    "Are there more crimes in summers or in winters?"
   ]
  },
  {
   "cell_type": "markdown",
   "metadata": {},
   "source": [
    "Since the data set is from Aug.2015 to Jan. 2019 let's analyze the trends from 2016 to 2018."
   ]
  },
  {
   "cell_type": "code",
   "execution_count": 89,
   "metadata": {},
   "outputs": [],
   "source": [
    "df_1618 = df_clean.loc[(df_clean['year'] > 2015) & (df_clean['year'] < 2019)]"
   ]
  },
  {
   "cell_type": "code",
   "execution_count": 90,
   "metadata": {},
   "outputs": [
    {
     "data": {
      "text/plain": [
       "(146456, 15)"
      ]
     },
     "execution_count": 90,
     "metadata": {},
     "output_type": "execute_result"
    }
   ],
   "source": [
    "df_1618.shape"
   ]
  },
  {
   "cell_type": "code",
   "execution_count": 91,
   "metadata": {},
   "outputs": [],
   "source": [
    "df_month = df_1618.groupby('month').size().reset_index(name = 'counts').set_index('month')"
   ]
  },
  {
   "cell_type": "code",
   "execution_count": 92,
   "metadata": {},
   "outputs": [
    {
     "data": {
      "text/html": [
       "<div>\n",
       "<style scoped>\n",
       "    .dataframe tbody tr th:only-of-type {\n",
       "        vertical-align: middle;\n",
       "    }\n",
       "\n",
       "    .dataframe tbody tr th {\n",
       "        vertical-align: top;\n",
       "    }\n",
       "\n",
       "    .dataframe thead th {\n",
       "        text-align: right;\n",
       "    }\n",
       "</style>\n",
       "<table border=\"1\" class=\"dataframe\">\n",
       "  <thead>\n",
       "    <tr style=\"text-align: right;\">\n",
       "      <th></th>\n",
       "      <th>counts</th>\n",
       "    </tr>\n",
       "    <tr>\n",
       "      <th>month</th>\n",
       "      <th></th>\n",
       "    </tr>\n",
       "  </thead>\n",
       "  <tbody>\n",
       "    <tr>\n",
       "      <th>1</th>\n",
       "      <td>11932</td>\n",
       "    </tr>\n",
       "    <tr>\n",
       "      <th>2</th>\n",
       "      <td>10765</td>\n",
       "    </tr>\n",
       "    <tr>\n",
       "      <th>3</th>\n",
       "      <td>11762</td>\n",
       "    </tr>\n",
       "    <tr>\n",
       "      <th>4</th>\n",
       "      <td>12012</td>\n",
       "    </tr>\n",
       "    <tr>\n",
       "      <th>5</th>\n",
       "      <td>12949</td>\n",
       "    </tr>\n",
       "    <tr>\n",
       "      <th>6</th>\n",
       "      <td>13047</td>\n",
       "    </tr>\n",
       "    <tr>\n",
       "      <th>7</th>\n",
       "      <td>13194</td>\n",
       "    </tr>\n",
       "    <tr>\n",
       "      <th>8</th>\n",
       "      <td>13348</td>\n",
       "    </tr>\n",
       "    <tr>\n",
       "      <th>9</th>\n",
       "      <td>12643</td>\n",
       "    </tr>\n",
       "    <tr>\n",
       "      <th>10</th>\n",
       "      <td>12607</td>\n",
       "    </tr>\n",
       "    <tr>\n",
       "      <th>11</th>\n",
       "      <td>11327</td>\n",
       "    </tr>\n",
       "    <tr>\n",
       "      <th>12</th>\n",
       "      <td>10870</td>\n",
       "    </tr>\n",
       "  </tbody>\n",
       "</table>\n",
       "</div>"
      ],
      "text/plain": [
       "       counts\n",
       "month        \n",
       "1       11932\n",
       "2       10765\n",
       "3       11762\n",
       "4       12012\n",
       "5       12949\n",
       "6       13047\n",
       "7       13194\n",
       "8       13348\n",
       "9       12643\n",
       "10      12607\n",
       "11      11327\n",
       "12      10870"
      ]
     },
     "execution_count": 92,
     "metadata": {},
     "output_type": "execute_result"
    }
   ],
   "source": [
    "df_month"
   ]
  },
  {
   "cell_type": "code",
   "execution_count": 152,
   "metadata": {},
   "outputs": [
    {
     "data": {
      "image/png": "[encoded data removed]",
      "text/plain": [
       "<Figure size 720x504 with 1 Axes>"
      ]
     },
     "metadata": {
      "needs_background": "light"
     },
     "output_type": "display_data"
    }
   ],
   "source": [
    "fig3 = plt.figure(figsize = (10,7))\n",
    "ind3 = np.arange(12)\n",
    "ax3 = plt.subplot(111)\n",
    "rects = ax3.bar(ind3, df_month['counts'], width = 0.8,color = ['yellow','lime','yellow','yellow','red','red','red','darkred','orange','orange','green','green'])\n",
    "ax3.set_xticks(ind3)\n",
    "ax3.set_xticklabels(['Jan','Feb','Mar','Apr','May','Jun','Jul','Aug','Sep','Oct','Nov','Dec'])\n",
    "ax3.set_xlabel('Month')\n",
    "ax3.set_ylabel('Amount of crimes')\n",
    "ax3.set_title('Crimes in Boston by month')\n",
    "for rect in rects:\n",
    "    height = rect.get_height()\n",
    "    ax3.text(rect.get_x() - 0.13, 1.01 * height, height, fontsize = 14)"
   ]
  },
  {
   "cell_type": "markdown",
   "metadata": {},
   "source": [
    "It seems that there is more crime during summer months and less crime during winter ones. It's possible that crime is fairly weather-dependent. Is this trend true for all three full years?"
   ]
  },
  {
   "cell_type": "markdown",
   "metadata": {},
   "source": [
    "<a id = 'common'></a>\n",
    "[Return to top](#top)\n",
    "## 2.4 What are the most common crimes in Boston?"
   ]
  },
  {
   "cell_type": "code",
   "execution_count": 93,
   "metadata": {},
   "outputs": [],
   "source": [
    "df_ocg = df_clean.groupby('offense_code_group').size().reset_index(name = 'counts').set_index('offense_code_group').sort_values(by = 'counts', ascending = False)"
   ]
  },
  {
   "cell_type": "code",
   "execution_count": 94,
   "metadata": {},
   "outputs": [
    {
     "data": {
      "text/html": [
       "<div>\n",
       "<style scoped>\n",
       "    .dataframe tbody tr th:only-of-type {\n",
       "        vertical-align: middle;\n",
       "    }\n",
       "\n",
       "    .dataframe tbody tr th {\n",
       "        vertical-align: top;\n",
       "    }\n",
       "\n",
       "    .dataframe thead th {\n",
       "        text-align: right;\n",
       "    }\n",
       "</style>\n",
       "<table border=\"1\" class=\"dataframe\">\n",
       "  <thead>\n",
       "    <tr style=\"text-align: right;\">\n",
       "      <th></th>\n",
       "      <th>counts</th>\n",
       "    </tr>\n",
       "    <tr>\n",
       "      <th>offense_code_group</th>\n",
       "      <th></th>\n",
       "    </tr>\n",
       "  </thead>\n",
       "  <tbody>\n",
       "    <tr>\n",
       "      <th>Larceny</th>\n",
       "      <td>29257</td>\n",
       "    </tr>\n",
       "    <tr>\n",
       "      <th>Other</th>\n",
       "      <td>19091</td>\n",
       "    </tr>\n",
       "    <tr>\n",
       "      <th>Drug Violation</th>\n",
       "      <td>18502</td>\n",
       "    </tr>\n",
       "    <tr>\n",
       "      <th>Simple Assault</th>\n",
       "      <td>17799</td>\n",
       "    </tr>\n",
       "    <tr>\n",
       "      <th>Vandalism</th>\n",
       "      <td>17132</td>\n",
       "    </tr>\n",
       "    <tr>\n",
       "      <th>Larceny From Motor Vehicle</th>\n",
       "      <td>12029</td>\n",
       "    </tr>\n",
       "    <tr>\n",
       "      <th>Aggravated Assault</th>\n",
       "      <td>8868</td>\n",
       "    </tr>\n",
       "    <tr>\n",
       "      <th>Violations</th>\n",
       "      <td>6730</td>\n",
       "    </tr>\n",
       "    <tr>\n",
       "      <th>Fraud</th>\n",
       "      <td>6660</td>\n",
       "    </tr>\n",
       "    <tr>\n",
       "      <th>Residential Burglary</th>\n",
       "      <td>6112</td>\n",
       "    </tr>\n",
       "    <tr>\n",
       "      <th>Auto Theft</th>\n",
       "      <td>5314</td>\n",
       "    </tr>\n",
       "    <tr>\n",
       "      <th>Robbery</th>\n",
       "      <td>5086</td>\n",
       "    </tr>\n",
       "    <tr>\n",
       "      <th>Harassment</th>\n",
       "      <td>4568</td>\n",
       "    </tr>\n",
       "    <tr>\n",
       "      <th>Confidence Games</th>\n",
       "      <td>3501</td>\n",
       "    </tr>\n",
       "    <tr>\n",
       "      <th>Disorderly Conduct</th>\n",
       "      <td>2843</td>\n",
       "    </tr>\n",
       "    <tr>\n",
       "      <th>Firearm Violations</th>\n",
       "      <td>2002</td>\n",
       "    </tr>\n",
       "    <tr>\n",
       "      <th>Restraining Order Violations</th>\n",
       "      <td>1801</td>\n",
       "    </tr>\n",
       "    <tr>\n",
       "      <th>Counterfeiting</th>\n",
       "      <td>1647</td>\n",
       "    </tr>\n",
       "    <tr>\n",
       "      <th>Recovered Stolen Property</th>\n",
       "      <td>1614</td>\n",
       "    </tr>\n",
       "    <tr>\n",
       "      <th>Commercial Burglary</th>\n",
       "      <td>1463</td>\n",
       "    </tr>\n",
       "    <tr>\n",
       "      <th>Liquor Violation</th>\n",
       "      <td>1201</td>\n",
       "    </tr>\n",
       "    <tr>\n",
       "      <th>Auto Theft Recovery</th>\n",
       "      <td>1179</td>\n",
       "    </tr>\n",
       "    <tr>\n",
       "      <th>Ballistics</th>\n",
       "      <td>1099</td>\n",
       "    </tr>\n",
       "    <tr>\n",
       "      <th>Operating Under the Influence</th>\n",
       "      <td>632</td>\n",
       "    </tr>\n",
       "    <tr>\n",
       "      <th>Offenses Against Child / Family</th>\n",
       "      <td>581</td>\n",
       "    </tr>\n",
       "    <tr>\n",
       "      <th>Other Burglary</th>\n",
       "      <td>515</td>\n",
       "    </tr>\n",
       "    <tr>\n",
       "      <th>Evading Fare</th>\n",
       "      <td>447</td>\n",
       "    </tr>\n",
       "    <tr>\n",
       "      <th>Embezzlement</th>\n",
       "      <td>345</td>\n",
       "    </tr>\n",
       "    <tr>\n",
       "      <th>Prisoner Related Incidents</th>\n",
       "      <td>261</td>\n",
       "    </tr>\n",
       "    <tr>\n",
       "      <th>Homicide</th>\n",
       "      <td>237</td>\n",
       "    </tr>\n",
       "    <tr>\n",
       "      <th>Prostitution</th>\n",
       "      <td>237</td>\n",
       "    </tr>\n",
       "    <tr>\n",
       "      <th>Criminal Harassment</th>\n",
       "      <td>145</td>\n",
       "    </tr>\n",
       "    <tr>\n",
       "      <th>Fire Related Reports</th>\n",
       "      <td>140</td>\n",
       "    </tr>\n",
       "    <tr>\n",
       "      <th>Bomb Hoax</th>\n",
       "      <td>102</td>\n",
       "    </tr>\n",
       "    <tr>\n",
       "      <th>Arson</th>\n",
       "      <td>98</td>\n",
       "    </tr>\n",
       "    <tr>\n",
       "      <th>HOME INVASION</th>\n",
       "      <td>84</td>\n",
       "    </tr>\n",
       "    <tr>\n",
       "      <th>License Plate Related Incidents</th>\n",
       "      <td>80</td>\n",
       "    </tr>\n",
       "    <tr>\n",
       "      <th>Phone Call Complaints</th>\n",
       "      <td>39</td>\n",
       "    </tr>\n",
       "    <tr>\n",
       "      <th>Missing Person Reported</th>\n",
       "      <td>33</td>\n",
       "    </tr>\n",
       "    <tr>\n",
       "      <th>Explosives</th>\n",
       "      <td>13</td>\n",
       "    </tr>\n",
       "    <tr>\n",
       "      <th>Manslaughter</th>\n",
       "      <td>9</td>\n",
       "    </tr>\n",
       "    <tr>\n",
       "      <th>Gambling</th>\n",
       "      <td>8</td>\n",
       "    </tr>\n",
       "    <tr>\n",
       "      <th>HUMAN TRAFFICKING</th>\n",
       "      <td>8</td>\n",
       "    </tr>\n",
       "    <tr>\n",
       "      <th>Burglary - No Property Taken</th>\n",
       "      <td>5</td>\n",
       "    </tr>\n",
       "    <tr>\n",
       "      <th>Biological Threat</th>\n",
       "      <td>2</td>\n",
       "    </tr>\n",
       "    <tr>\n",
       "      <th>HUMAN TRAFFICKING - INVOLUNTARY SERVITUDE</th>\n",
       "      <td>2</td>\n",
       "    </tr>\n",
       "  </tbody>\n",
       "</table>\n",
       "</div>"
      ],
      "text/plain": [
       "                                           counts\n",
       "offense_code_group                               \n",
       "Larceny                                     29257\n",
       "Other                                       19091\n",
       "Drug Violation                              18502\n",
       "Simple Assault                              17799\n",
       "Vandalism                                   17132\n",
       "Larceny From Motor Vehicle                  12029\n",
       "Aggravated Assault                           8868\n",
       "Violations                                   6730\n",
       "Fraud                                        6660\n",
       "Residential Burglary                         6112\n",
       "Auto Theft                                   5314\n",
       "Robbery                                      5086\n",
       "Harassment                                   4568\n",
       "Confidence Games                             3501\n",
       "Disorderly Conduct                           2843\n",
       "Firearm Violations                           2002\n",
       "Restraining Order Violations                 1801\n",
       "Counterfeiting                               1647\n",
       "Recovered Stolen Property                    1614\n",
       "Commercial Burglary                          1463\n",
       "Liquor Violation                             1201\n",
       "Auto Theft Recovery                          1179\n",
       "Ballistics                                   1099\n",
       "Operating Under the Influence                 632\n",
       "Offenses Against Child / Family               581\n",
       "Other Burglary                                515\n",
       "Evading Fare                                  447\n",
       "Embezzlement                                  345\n",
       "Prisoner Related Incidents                    261\n",
       "Homicide                                      237\n",
       "Prostitution                                  237\n",
       "Criminal Harassment                           145\n",
       "Fire Related Reports                          140\n",
       "Bomb Hoax                                     102\n",
       "Arson                                          98\n",
       "HOME INVASION                                  84\n",
       "License Plate Related Incidents                80\n",
       "Phone Call Complaints                          39\n",
       "Missing Person Reported                        33\n",
       "Explosives                                     13\n",
       "Manslaughter                                    9\n",
       "Gambling                                        8\n",
       "HUMAN TRAFFICKING                               8\n",
       "Burglary - No Property Taken                    5\n",
       "Biological Threat                               2\n",
       "HUMAN TRAFFICKING - INVOLUNTARY SERVITUDE       2"
      ]
     },
     "execution_count": 94,
     "metadata": {},
     "output_type": "execute_result"
    }
   ],
   "source": [
    "df_ocg"
   ]
  },
  {
   "cell_type": "code",
   "execution_count": 177,
   "metadata": {},
   "outputs": [
    {
     "data": {
      "image/png": "[encoded data removed]",
      "text/plain": [
       "<Figure size 1440x576 with 1 Axes>"
      ]
     },
     "metadata": {
      "needs_background": "light"
     },
     "output_type": "display_data"
    }
   ],
   "source": [
    "fig41 = plt.figure(figsize = (20,8))\n",
    "ind41 = np.arange(10)\n",
    "ax41 = plt.subplot(111)\n",
    "y_data = df_ocg['counts'].head(10)\n",
    "df_riocg = df_ocg.reset_index()\n",
    "rects = ax41.bar(ind41, y_data, width = 0.8,color = 'r')\n",
    "ax41.set_xticks(ind41)\n",
    "ax41.set_xticklabels(['Larceny','Other','Drug Violation','Simple Assault','Vandalism','Larceny from MV','Aggravated Assault','Violations','Fraud','Residential Burglary'])\n",
    "ax41.set_xlabel('Offense Code Group')\n",
    "ax41.set_ylabel('Amount of crimes')\n",
    "ax41.set_title('Crimes in Boston by offense code group')\n",
    "for rect in rects:\n",
    "    height = rect.get_height()\n",
    "    ax41.text(rect.get_x() + 0.2, 1.02 * height, height, fontsize = 14)"
   ]
  },
  {
   "cell_type": "code",
   "execution_count": 95,
   "metadata": {},
   "outputs": [],
   "source": [
    "df_od = df_clean.groupby('offense_description').size().reset_index(name = 'counts').set_index('offense_description').sort_values(by = 'counts', ascending = False)"
   ]
  },
  {
   "cell_type": "code",
   "execution_count": 96,
   "metadata": {},
   "outputs": [
    {
     "data": {
      "text/html": [
       "<div>\n",
       "<style scoped>\n",
       "    .dataframe tbody tr th:only-of-type {\n",
       "        vertical-align: middle;\n",
       "    }\n",
       "\n",
       "    .dataframe tbody tr th {\n",
       "        vertical-align: top;\n",
       "    }\n",
       "\n",
       "    .dataframe thead th {\n",
       "        text-align: right;\n",
       "    }\n",
       "</style>\n",
       "<table border=\"1\" class=\"dataframe\">\n",
       "  <thead>\n",
       "    <tr style=\"text-align: right;\">\n",
       "      <th></th>\n",
       "      <th>counts</th>\n",
       "    </tr>\n",
       "    <tr>\n",
       "      <th>offense_description</th>\n",
       "      <th></th>\n",
       "    </tr>\n",
       "  </thead>\n",
       "  <tbody>\n",
       "    <tr>\n",
       "      <th>VANDALISM</th>\n",
       "      <td>16847</td>\n",
       "    </tr>\n",
       "    <tr>\n",
       "      <th>ASSAULT SIMPLE - BATTERY</th>\n",
       "      <td>16589</td>\n",
       "    </tr>\n",
       "    <tr>\n",
       "      <th>THREATS TO DO BODILY HARM</th>\n",
       "      <td>10233</td>\n",
       "    </tr>\n",
       "    <tr>\n",
       "      <th>LARCENY THEFT FROM BUILDING</th>\n",
       "      <td>10199</td>\n",
       "    </tr>\n",
       "    <tr>\n",
       "      <th>LARCENY THEFT FROM MV - NON-ACCESSORY</th>\n",
       "      <td>9865</td>\n",
       "    </tr>\n",
       "    <tr>\n",
       "      <th>LARCENY SHOPLIFTING</th>\n",
       "      <td>8990</td>\n",
       "    </tr>\n",
       "    <tr>\n",
       "      <th>LARCENY ALL OTHERS</th>\n",
       "      <td>6747</td>\n",
       "    </tr>\n",
       "    <tr>\n",
       "      <th>ASSAULT - AGGRAVATED - BATTERY</th>\n",
       "      <td>5544</td>\n",
       "    </tr>\n",
       "    <tr>\n",
       "      <th>FRAUD - FALSE PRETENSE / SCHEME</th>\n",
       "      <td>5033</td>\n",
       "    </tr>\n",
       "    <tr>\n",
       "      <th>HARASSMENT</th>\n",
       "      <td>4568</td>\n",
       "    </tr>\n",
       "    <tr>\n",
       "      <th>AUTO THEFT</th>\n",
       "      <td>3958</td>\n",
       "    </tr>\n",
       "    <tr>\n",
       "      <th>TRESPASSING</th>\n",
       "      <td>3625</td>\n",
       "    </tr>\n",
       "    <tr>\n",
       "      <th>FRAUD - CREDIT CARD / ATM FRAUD</th>\n",
       "      <td>3501</td>\n",
       "    </tr>\n",
       "    <tr>\n",
       "      <th>ROBBERY - STREET</th>\n",
       "      <td>3341</td>\n",
       "    </tr>\n",
       "    <tr>\n",
       "      <th>ASSAULT - AGGRAVATED</th>\n",
       "      <td>3308</td>\n",
       "    </tr>\n",
       "    <tr>\n",
       "      <th>VAL - VIOLATION OF AUTO LAW - OTHER</th>\n",
       "      <td>3115</td>\n",
       "    </tr>\n",
       "    <tr>\n",
       "      <th>DRUGS - POSS CLASS B - COCAINE, ETC.</th>\n",
       "      <td>2946</td>\n",
       "    </tr>\n",
       "    <tr>\n",
       "      <th>VAL - OPERATING AFTER REV/SUSP.</th>\n",
       "      <td>2883</td>\n",
       "    </tr>\n",
       "    <tr>\n",
       "      <th>BURGLARY - RESIDENTIAL - FORCE</th>\n",
       "      <td>2770</td>\n",
       "    </tr>\n",
       "    <tr>\n",
       "      <th>BURGLARY - RESIDENTIAL - NO FORCE</th>\n",
       "      <td>2610</td>\n",
       "    </tr>\n",
       "    <tr>\n",
       "      <th>LARCENY THEFT OF BICYCLE</th>\n",
       "      <td>2533</td>\n",
       "    </tr>\n",
       "    <tr>\n",
       "      <th>DRUGS - POSS CLASS B - INTENT TO MFR DIST DISP</th>\n",
       "      <td>2470</td>\n",
       "    </tr>\n",
       "    <tr>\n",
       "      <th>DRUGS - SALE / MANUFACTURING</th>\n",
       "      <td>2183</td>\n",
       "    </tr>\n",
       "    <tr>\n",
       "      <th>VAL - OPERATING WITHOUT LICENSE</th>\n",
       "      <td>2165</td>\n",
       "    </tr>\n",
       "    <tr>\n",
       "      <th>LARCENY THEFT OF MV PARTS &amp; ACCESSORIES</th>\n",
       "      <td>2157</td>\n",
       "    </tr>\n",
       "    <tr>\n",
       "      <th>DRUGS - POSS CLASS A - HEROIN, ETC.</th>\n",
       "      <td>1717</td>\n",
       "    </tr>\n",
       "    <tr>\n",
       "      <th>FORGERY / COUNTERFEITING</th>\n",
       "      <td>1642</td>\n",
       "    </tr>\n",
       "    <tr>\n",
       "      <th>DISORDERLY CONDUCT</th>\n",
       "      <td>1551</td>\n",
       "    </tr>\n",
       "    <tr>\n",
       "      <th>DRUGS - POSS CLASS A - INTENT TO MFR DIST DISP</th>\n",
       "      <td>1522</td>\n",
       "    </tr>\n",
       "    <tr>\n",
       "      <th>VIOL. OF RESTRAINING ORDER W NO ARREST</th>\n",
       "      <td>1494</td>\n",
       "    </tr>\n",
       "    <tr>\n",
       "      <th>...</th>\n",
       "      <td>...</td>\n",
       "    </tr>\n",
       "    <tr>\n",
       "      <th>DRUGS - POSS CLASS D - MARIJUANA, ETC.</th>\n",
       "      <td>2</td>\n",
       "    </tr>\n",
       "    <tr>\n",
       "      <th>PROSTITUTE - COMMON NIGHTWALKER</th>\n",
       "      <td>2</td>\n",
       "    </tr>\n",
       "    <tr>\n",
       "      <th>B&amp;E NON-RESIDENCE DAY - NO FORCE</th>\n",
       "      <td>2</td>\n",
       "    </tr>\n",
       "    <tr>\n",
       "      <th>B&amp;E NON-RESIDENCE DAY - NO PROP TAKEN</th>\n",
       "      <td>2</td>\n",
       "    </tr>\n",
       "    <tr>\n",
       "      <th>DISORDERLY PERSON</th>\n",
       "      <td>2</td>\n",
       "    </tr>\n",
       "    <tr>\n",
       "      <th>HUMAN TRAFFICKING - INVOLUNTARY SERVITUDE</th>\n",
       "      <td>2</td>\n",
       "    </tr>\n",
       "    <tr>\n",
       "      <th>BIOLOGICAL THREATS</th>\n",
       "      <td>2</td>\n",
       "    </tr>\n",
       "    <tr>\n",
       "      <th>LARCENY IN A BUILDING $50 TO $199</th>\n",
       "      <td>2</td>\n",
       "    </tr>\n",
       "    <tr>\n",
       "      <th>LARCENY NON-ACCESSORY FROM VEH. $200 &amp; OVER</th>\n",
       "      <td>2</td>\n",
       "    </tr>\n",
       "    <tr>\n",
       "      <th>LARCENY NON-ACCESSORY FROM VEH. $50 TO $199</th>\n",
       "      <td>2</td>\n",
       "    </tr>\n",
       "    <tr>\n",
       "      <th>MANSLAUGHTER - NON-VEHICLE - NEGLIGENCE</th>\n",
       "      <td>2</td>\n",
       "    </tr>\n",
       "    <tr>\n",
       "      <th>COUNTERFEITING</th>\n",
       "      <td>2</td>\n",
       "    </tr>\n",
       "    <tr>\n",
       "      <th>ASSAULT &amp; BATTERY D/W - KNIFE</th>\n",
       "      <td>2</td>\n",
       "    </tr>\n",
       "    <tr>\n",
       "      <th>VIOLATION - RESTRAINING ORDER</th>\n",
       "      <td>1</td>\n",
       "    </tr>\n",
       "    <tr>\n",
       "      <th>FIREARM/WEAPON - CARRY - SELL - RENT</th>\n",
       "      <td>1</td>\n",
       "    </tr>\n",
       "    <tr>\n",
       "      <th>FRAUD - FALSE PRETENSE</th>\n",
       "      <td>1</td>\n",
       "    </tr>\n",
       "    <tr>\n",
       "      <th>B&amp;E NON-RESIDENCE NIGHT - FORCE</th>\n",
       "      <td>1</td>\n",
       "    </tr>\n",
       "    <tr>\n",
       "      <th>ASSAULT &amp; BATTERY D/W - OTHER ON POLICE OFFICER</th>\n",
       "      <td>1</td>\n",
       "    </tr>\n",
       "    <tr>\n",
       "      <th>ASSAULT D/W - KNIFE ON POLICE OFFICER</th>\n",
       "      <td>1</td>\n",
       "    </tr>\n",
       "    <tr>\n",
       "      <th>AUTO THEFT - OUTSIDE - RECOVERED IN BOSTON</th>\n",
       "      <td>1</td>\n",
       "    </tr>\n",
       "    <tr>\n",
       "      <th>AUTO THEFT LEASE/RENT VEHICLE</th>\n",
       "      <td>1</td>\n",
       "    </tr>\n",
       "    <tr>\n",
       "      <th>AUTO THEFT OTHER</th>\n",
       "      <td>1</td>\n",
       "    </tr>\n",
       "    <tr>\n",
       "      <th>FRAUDS - ALL OTHER</th>\n",
       "      <td>1</td>\n",
       "    </tr>\n",
       "    <tr>\n",
       "      <th>ROBBERY - KNIFE - STREET</th>\n",
       "      <td>1</td>\n",
       "    </tr>\n",
       "    <tr>\n",
       "      <th>DRUGS - GLUE INHALATION</th>\n",
       "      <td>1</td>\n",
       "    </tr>\n",
       "    <tr>\n",
       "      <th>B&amp;E RESIDENCE DAY - NO FORCE</th>\n",
       "      <td>1</td>\n",
       "    </tr>\n",
       "    <tr>\n",
       "      <th>KILLING OF FELON BY POLICE</th>\n",
       "      <td>1</td>\n",
       "    </tr>\n",
       "    <tr>\n",
       "      <th>PRISONER ATTEMPT TO RESCUE</th>\n",
       "      <td>1</td>\n",
       "    </tr>\n",
       "    <tr>\n",
       "      <th>CHILD ABUSE</th>\n",
       "      <td>1</td>\n",
       "    </tr>\n",
       "    <tr>\n",
       "      <th>A&amp;B HANDS, FEET, ETC.  - MED. ATTENTION REQ.</th>\n",
       "      <td>1</td>\n",
       "    </tr>\n",
       "  </tbody>\n",
       "</table>\n",
       "<p>187 rows × 1 columns</p>\n",
       "</div>"
      ],
      "text/plain": [
       "                                                 counts\n",
       "offense_description                                    \n",
       "VANDALISM                                         16847\n",
       "ASSAULT SIMPLE - BATTERY                          16589\n",
       "THREATS TO DO BODILY HARM                         10233\n",
       "LARCENY THEFT FROM BUILDING                       10199\n",
       "LARCENY THEFT FROM MV - NON-ACCESSORY              9865\n",
       "LARCENY SHOPLIFTING                                8990\n",
       "LARCENY ALL OTHERS                                 6747\n",
       "ASSAULT - AGGRAVATED - BATTERY                     5544\n",
       "FRAUD - FALSE PRETENSE / SCHEME                    5033\n",
       "HARASSMENT                                         4568\n",
       "AUTO THEFT                                         3958\n",
       "TRESPASSING                                        3625\n",
       "FRAUD - CREDIT CARD / ATM FRAUD                    3501\n",
       "ROBBERY - STREET                                   3341\n",
       "ASSAULT - AGGRAVATED                               3308\n",
       "VAL - VIOLATION OF AUTO LAW - OTHER                3115\n",
       "DRUGS - POSS CLASS B - COCAINE, ETC.               2946\n",
       "VAL - OPERATING AFTER REV/SUSP.                    2883\n",
       "BURGLARY - RESIDENTIAL - FORCE                     2770\n",
       "BURGLARY - RESIDENTIAL - NO FORCE                  2610\n",
       "LARCENY THEFT OF BICYCLE                           2533\n",
       "DRUGS - POSS CLASS B - INTENT TO MFR DIST DISP     2470\n",
       "DRUGS - SALE / MANUFACTURING                       2183\n",
       "VAL - OPERATING WITHOUT LICENSE                    2165\n",
       "LARCENY THEFT OF MV PARTS & ACCESSORIES            2157\n",
       "DRUGS - POSS CLASS A - HEROIN, ETC.                1717\n",
       "FORGERY / COUNTERFEITING                           1642\n",
       "DISORDERLY CONDUCT                                 1551\n",
       "DRUGS - POSS CLASS A - INTENT TO MFR DIST DISP     1522\n",
       "VIOL. OF RESTRAINING ORDER W NO ARREST             1494\n",
       "...                                                 ...\n",
       "DRUGS - POSS CLASS D - MARIJUANA, ETC.                2\n",
       "PROSTITUTE - COMMON NIGHTWALKER                       2\n",
       "B&E NON-RESIDENCE DAY - NO FORCE                      2\n",
       "B&E NON-RESIDENCE DAY - NO PROP TAKEN                 2\n",
       "DISORDERLY PERSON                                     2\n",
       "HUMAN TRAFFICKING - INVOLUNTARY SERVITUDE             2\n",
       "BIOLOGICAL THREATS                                    2\n",
       "LARCENY IN A BUILDING $50 TO $199                     2\n",
       "LARCENY NON-ACCESSORY FROM VEH. $200 & OVER           2\n",
       "LARCENY NON-ACCESSORY FROM VEH. $50 TO $199           2\n",
       "MANSLAUGHTER - NON-VEHICLE - NEGLIGENCE               2\n",
       "COUNTERFEITING                                        2\n",
       "ASSAULT & BATTERY D/W - KNIFE                         2\n",
       "VIOLATION - RESTRAINING ORDER                         1\n",
       "FIREARM/WEAPON - CARRY - SELL - RENT                  1\n",
       "FRAUD - FALSE PRETENSE                                1\n",
       "B&E NON-RESIDENCE NIGHT - FORCE                       1\n",
       "ASSAULT & BATTERY D/W - OTHER ON POLICE OFFICER       1\n",
       "ASSAULT D/W - KNIFE ON POLICE OFFICER                 1\n",
       "AUTO THEFT - OUTSIDE - RECOVERED IN BOSTON            1\n",
       "AUTO THEFT LEASE/RENT VEHICLE                         1\n",
       "AUTO THEFT OTHER                                      1\n",
       "FRAUDS - ALL OTHER                                    1\n",
       "ROBBERY - KNIFE - STREET                              1\n",
       "DRUGS - GLUE INHALATION                               1\n",
       "B&E RESIDENCE DAY - NO FORCE                          1\n",
       "KILLING OF FELON BY POLICE                            1\n",
       "PRISONER ATTEMPT TO RESCUE                            1\n",
       "CHILD ABUSE                                           1\n",
       "A&B HANDS, FEET, ETC.  - MED. ATTENTION REQ.          1\n",
       "\n",
       "[187 rows x 1 columns]"
      ]
     },
     "execution_count": 96,
     "metadata": {},
     "output_type": "execute_result"
    }
   ],
   "source": [
    "df_od"
   ]
  },
  {
   "cell_type": "markdown",
   "metadata": {},
   "source": [
    "<a id = 'location'></a>\n",
    "[Return to top](#top)\n",
    "## 2.5 Where are crimes located in Boston?"
   ]
  },
  {
   "cell_type": "code",
   "execution_count": 153,
   "metadata": {},
   "outputs": [],
   "source": [
    "df_districts = df_clean.groupby('district').size().reset_index(name = 'counts').set_index('district').sort_values('counts', ascending = False)"
   ]
  },
  {
   "cell_type": "code",
   "execution_count": 156,
   "metadata": {
    "scrolled": true
   },
   "outputs": [
    {
     "data": {
      "text/html": [
       "<div>\n",
       "<style scoped>\n",
       "    .dataframe tbody tr th:only-of-type {\n",
       "        vertical-align: middle;\n",
       "    }\n",
       "\n",
       "    .dataframe tbody tr th {\n",
       "        vertical-align: top;\n",
       "    }\n",
       "\n",
       "    .dataframe thead th {\n",
       "        text-align: right;\n",
       "    }\n",
       "</style>\n",
       "<table border=\"1\" class=\"dataframe\">\n",
       "  <thead>\n",
       "    <tr style=\"text-align: right;\">\n",
       "      <th></th>\n",
       "      <th>counts</th>\n",
       "    </tr>\n",
       "    <tr>\n",
       "      <th>district</th>\n",
       "      <th></th>\n",
       "    </tr>\n",
       "  </thead>\n",
       "  <tbody>\n",
       "    <tr>\n",
       "      <th>B2</th>\n",
       "      <td>28366</td>\n",
       "    </tr>\n",
       "    <tr>\n",
       "      <th>D4</th>\n",
       "      <td>27516</td>\n",
       "    </tr>\n",
       "    <tr>\n",
       "      <th>C11</th>\n",
       "      <td>22960</td>\n",
       "    </tr>\n",
       "    <tr>\n",
       "      <th>A1</th>\n",
       "      <td>22268</td>\n",
       "    </tr>\n",
       "    <tr>\n",
       "      <th>B3</th>\n",
       "      <td>18252</td>\n",
       "    </tr>\n",
       "    <tr>\n",
       "      <th>C6</th>\n",
       "      <td>13459</td>\n",
       "    </tr>\n",
       "    <tr>\n",
       "      <th>D14</th>\n",
       "      <td>10336</td>\n",
       "    </tr>\n",
       "    <tr>\n",
       "      <th>E13</th>\n",
       "      <td>9925</td>\n",
       "    </tr>\n",
       "    <tr>\n",
       "      <th>E18</th>\n",
       "      <td>8593</td>\n",
       "    </tr>\n",
       "    <tr>\n",
       "      <th>A7</th>\n",
       "      <td>7139</td>\n",
       "    </tr>\n",
       "    <tr>\n",
       "      <th>E5</th>\n",
       "      <td>6465</td>\n",
       "    </tr>\n",
       "    <tr>\n",
       "      <th>A15</th>\n",
       "      <td>3428</td>\n",
       "    </tr>\n",
       "  </tbody>\n",
       "</table>\n",
       "</div>"
      ],
      "text/plain": [
       "          counts\n",
       "district        \n",
       "B2         28366\n",
       "D4         27516\n",
       "C11        22960\n",
       "A1         22268\n",
       "B3         18252\n",
       "C6         13459\n",
       "D14        10336\n",
       "E13         9925\n",
       "E18         8593\n",
       "A7          7139\n",
       "E5          6465\n",
       "A15         3428"
      ]
     },
     "execution_count": 156,
     "metadata": {},
     "output_type": "execute_result"
    }
   ],
   "source": [
    "df_districts"
   ]
  },
  {
   "cell_type": "code",
   "execution_count": 199,
   "metadata": {},
   "outputs": [
    {
     "data": {
      "image/png": "[encoded data removed]",
      "text/plain": [
       "<Figure size 720x504 with 1 Axes>"
      ]
     },
     "metadata": {
      "needs_background": "light"
     },
     "output_type": "display_data"
    }
   ],
   "source": [
    "fig5 = plt.figure(figsize = (10,7))\n",
    "ind5 = np.arange(12)\n",
    "ax5 = plt.subplot(111)\n",
    "rects = ax5.bar(ind5, df_districts['counts'], width = 0.8,color = 'r')\n",
    "ax5.set_xticks(ind5)\n",
    "ax5.set_xticklabels(df_districts.index)\n",
    "ax5.set_xlabel('District')\n",
    "ax5.set_ylabel('Amount of crimes')\n",
    "ax5.set_title('Crimes in Boston by district')\n",
    "for rect in rects:\n",
    "    height = rect.get_height()\n",
    "    if height > 9999:\n",
    "        hor = rect.get_x() - 0.13\n",
    "    else:\n",
    "        hor = rect.get_x() - 0.03\n",
    "    ax5.text(hor, 1.01 * height, height, fontsize = 14)"
   ]
  },
  {
   "cell_type": "markdown",
   "metadata": {},
   "source": [
    "It seems that B2, D4, C11 and A1 have the most crimes. On the other hand A15, A7, E18 and E13 have the least amount of crimes."
   ]
  },
  {
   "cell_type": "markdown",
   "metadata": {},
   "source": [
    "Analysis of whether a certain police district of Boston necessarily has more crimes compared to some other police district per capita is impossible because different police district differ a lot in terms of population size."
   ]
  },
  {
   "cell_type": "markdown",
   "metadata": {},
   "source": [
    "However analyzing the same information using neighborhood boundaries should be possible."
   ]
  },
  {
   "cell_type": "markdown",
   "metadata": {},
   "source": [
    "<a id = 'time'></a>\n",
    "[Return to top](#top)\n",
    "## 2.6 What time of day are crimes commited?"
   ]
  },
  {
   "cell_type": "code",
   "execution_count": 103,
   "metadata": {},
   "outputs": [],
   "source": [
    "df_hour = df_clean.groupby('hour').size().reset_index(name = 'counts').set_index('hour')"
   ]
  },
  {
   "cell_type": "code",
   "execution_count": 104,
   "metadata": {},
   "outputs": [
    {
     "data": {
      "text/html": [
       "<div>\n",
       "<style scoped>\n",
       "    .dataframe tbody tr th:only-of-type {\n",
       "        vertical-align: middle;\n",
       "    }\n",
       "\n",
       "    .dataframe tbody tr th {\n",
       "        vertical-align: top;\n",
       "    }\n",
       "\n",
       "    .dataframe thead th {\n",
       "        text-align: right;\n",
       "    }\n",
       "</style>\n",
       "<table border=\"1\" class=\"dataframe\">\n",
       "  <thead>\n",
       "    <tr style=\"text-align: right;\">\n",
       "      <th></th>\n",
       "      <th>counts</th>\n",
       "    </tr>\n",
       "    <tr>\n",
       "      <th>hour</th>\n",
       "      <th></th>\n",
       "    </tr>\n",
       "  </thead>\n",
       "  <tbody>\n",
       "    <tr>\n",
       "      <th>0</th>\n",
       "      <td>9317</td>\n",
       "    </tr>\n",
       "    <tr>\n",
       "      <th>1</th>\n",
       "      <td>5511</td>\n",
       "    </tr>\n",
       "    <tr>\n",
       "      <th>2</th>\n",
       "      <td>4647</td>\n",
       "    </tr>\n",
       "    <tr>\n",
       "      <th>3</th>\n",
       "      <td>2471</td>\n",
       "    </tr>\n",
       "    <tr>\n",
       "      <th>4</th>\n",
       "      <td>1857</td>\n",
       "    </tr>\n",
       "    <tr>\n",
       "      <th>5</th>\n",
       "      <td>1578</td>\n",
       "    </tr>\n",
       "    <tr>\n",
       "      <th>6</th>\n",
       "      <td>2296</td>\n",
       "    </tr>\n",
       "    <tr>\n",
       "      <th>7</th>\n",
       "      <td>3895</td>\n",
       "    </tr>\n",
       "    <tr>\n",
       "      <th>8</th>\n",
       "      <td>6315</td>\n",
       "    </tr>\n",
       "    <tr>\n",
       "      <th>9</th>\n",
       "      <td>7508</td>\n",
       "    </tr>\n",
       "    <tr>\n",
       "      <th>10</th>\n",
       "      <td>8612</td>\n",
       "    </tr>\n",
       "    <tr>\n",
       "      <th>11</th>\n",
       "      <td>8936</td>\n",
       "    </tr>\n",
       "    <tr>\n",
       "      <th>12</th>\n",
       "      <td>10899</td>\n",
       "    </tr>\n",
       "    <tr>\n",
       "      <th>13</th>\n",
       "      <td>9560</td>\n",
       "    </tr>\n",
       "    <tr>\n",
       "      <th>14</th>\n",
       "      <td>9894</td>\n",
       "    </tr>\n",
       "    <tr>\n",
       "      <th>15</th>\n",
       "      <td>9575</td>\n",
       "    </tr>\n",
       "    <tr>\n",
       "      <th>16</th>\n",
       "      <td>11505</td>\n",
       "    </tr>\n",
       "    <tr>\n",
       "      <th>17</th>\n",
       "      <td>12563</td>\n",
       "    </tr>\n",
       "    <tr>\n",
       "      <th>18</th>\n",
       "      <td>12509</td>\n",
       "    </tr>\n",
       "    <tr>\n",
       "      <th>19</th>\n",
       "      <td>10600</td>\n",
       "    </tr>\n",
       "    <tr>\n",
       "      <th>20</th>\n",
       "      <td>9150</td>\n",
       "    </tr>\n",
       "    <tr>\n",
       "      <th>21</th>\n",
       "      <td>7796</td>\n",
       "    </tr>\n",
       "    <tr>\n",
       "      <th>22</th>\n",
       "      <td>6896</td>\n",
       "    </tr>\n",
       "    <tr>\n",
       "      <th>23</th>\n",
       "      <td>5631</td>\n",
       "    </tr>\n",
       "  </tbody>\n",
       "</table>\n",
       "</div>"
      ],
      "text/plain": [
       "      counts\n",
       "hour        \n",
       "0       9317\n",
       "1       5511\n",
       "2       4647\n",
       "3       2471\n",
       "4       1857\n",
       "5       1578\n",
       "6       2296\n",
       "7       3895\n",
       "8       6315\n",
       "9       7508\n",
       "10      8612\n",
       "11      8936\n",
       "12     10899\n",
       "13      9560\n",
       "14      9894\n",
       "15      9575\n",
       "16     11505\n",
       "17     12563\n",
       "18     12509\n",
       "19     10600\n",
       "20      9150\n",
       "21      7796\n",
       "22      6896\n",
       "23      5631"
      ]
     },
     "execution_count": 104,
     "metadata": {},
     "output_type": "execute_result"
    }
   ],
   "source": [
    "df_hour"
   ]
  },
  {
   "cell_type": "markdown",
   "metadata": {},
   "source": [
    "The most crimes are actually commited between 4PM and 8PM. Between 1AM and 8AM few crimes are commited."
   ]
  },
  {
   "cell_type": "code",
   "execution_count": 196,
   "metadata": {},
   "outputs": [
    {
     "data": {
      "image/png": "[encoded data removed]",
      "text/plain": [
       "<Figure size 1440x504 with 1 Axes>"
      ]
     },
     "metadata": {
      "needs_background": "light"
     },
     "output_type": "display_data"
    }
   ],
   "source": [
    "fig6 = plt.figure(figsize = (20,7))\n",
    "ind6 = np.arange(24)\n",
    "ax6 = plt.subplot(111)\n",
    "color = []\n",
    "for i in range(24):\n",
    "    amount = df_hour.loc[i, 'counts']\n",
    "    if amount > 12000:\n",
    "        color.append('darkred')\n",
    "    elif amount < 4000:\n",
    "        color.append('lime')\n",
    "    elif amount > 10000:\n",
    "        color.append('r')\n",
    "    elif amount < 6000:\n",
    "        color.append('g')\n",
    "    else:\n",
    "        color.append('olive')\n",
    "rects = ax6.bar(ind6, df_hour['counts'], width = 0.8,color = color)\n",
    "ax6.set_xticks(ind6)\n",
    "ax6.set_xticklabels(df_hour.index)\n",
    "ax6.set_xlabel('Hour')\n",
    "ax6.set_ylabel('Amount of crimes')\n",
    "ax6.set_title('Crimes in Boston by hour')\n",
    "for rect in rects:\n",
    "    height = rect.get_height()\n",
    "    if height > 9999:\n",
    "        hor = rect.get_x() - 0.13\n",
    "    else:\n",
    "        hor = rect.get_x() - 0.03\n",
    "    ax6.text(hor, 1.01 * height, height, fontsize = 14)"
   ]
  },
  {
   "cell_type": "markdown",
   "metadata": {},
   "source": [
    "<a id = 'shooting'></a>\n",
    "[Return to top](#top)\n",
    "## 2.7 How many crimes involve shooting?"
   ]
  },
  {
   "cell_type": "code",
   "execution_count": 109,
   "metadata": {},
   "outputs": [],
   "source": [
    "df_shooting = df_clean.groupby('shooting').size().reset_index(name = 'counts').set_index('shooting')"
   ]
  },
  {
   "cell_type": "code",
   "execution_count": 110,
   "metadata": {},
   "outputs": [
    {
     "data": {
      "text/html": [
       "<div>\n",
       "<style scoped>\n",
       "    .dataframe tbody tr th:only-of-type {\n",
       "        vertical-align: middle;\n",
       "    }\n",
       "\n",
       "    .dataframe tbody tr th {\n",
       "        vertical-align: top;\n",
       "    }\n",
       "\n",
       "    .dataframe thead th {\n",
       "        text-align: right;\n",
       "    }\n",
       "</style>\n",
       "<table border=\"1\" class=\"dataframe\">\n",
       "  <thead>\n",
       "    <tr style=\"text-align: right;\">\n",
       "      <th></th>\n",
       "      <th>counts</th>\n",
       "    </tr>\n",
       "    <tr>\n",
       "      <th>shooting</th>\n",
       "      <th></th>\n",
       "    </tr>\n",
       "  </thead>\n",
       "  <tbody>\n",
       "    <tr>\n",
       "      <th>0</th>\n",
       "      <td>178333</td>\n",
       "    </tr>\n",
       "    <tr>\n",
       "      <th>Y</th>\n",
       "      <td>1188</td>\n",
       "    </tr>\n",
       "  </tbody>\n",
       "</table>\n",
       "</div>"
      ],
      "text/plain": [
       "          counts\n",
       "shooting        \n",
       "0         178333\n",
       "Y           1188"
      ]
     },
     "execution_count": 110,
     "metadata": {},
     "output_type": "execute_result"
    }
   ],
   "source": [
    "df_shooting"
   ]
  },
  {
   "cell_type": "markdown",
   "metadata": {},
   "source": [
    "OK so Y represents shooting."
   ]
  },
  {
   "cell_type": "code",
   "execution_count": 111,
   "metadata": {},
   "outputs": [],
   "source": [
    "shooting_rate = df_shooting.loc['Y', 'counts']/df_clean.shape[0]"
   ]
  },
  {
   "cell_type": "code",
   "execution_count": 112,
   "metadata": {},
   "outputs": [
    {
     "data": {
      "text/plain": [
       "0.006617610196021635"
      ]
     },
     "execution_count": 112,
     "metadata": {},
     "output_type": "execute_result"
    }
   ],
   "source": [
    "shooting_rate"
   ]
  },
  {
   "cell_type": "markdown",
   "metadata": {},
   "source": [
    "About 0.66% of all crimes involve shooting."
   ]
  },
  {
   "cell_type": "code",
   "execution_count": 198,
   "metadata": {},
   "outputs": [
    {
     "data": {
      "text/plain": [
       "Text(0.5,1,'What percentage of crimes involve shooting?')"
      ]
     },
     "execution_count": 198,
     "metadata": {},
     "output_type": "execute_result"
    },
    {
     "data": {
      "image/png": "[encoded data removed]",
      "text/plain": [
       "<Figure size 720x360 with 1 Axes>"
      ]
     },
     "metadata": {},
     "output_type": "display_data"
    }
   ],
   "source": [
    "fig7 = plt.figure(figsize = (10,5))\n",
    "labels = ['Shooting', 'No shooting']\n",
    "ax7 = plt.subplot(111)\n",
    "size = [shooting_rate, 1 - shooting_rate]\n",
    "ax7.pie(size, explode = [0.5,0], labels = labels, autopct = '%1.2f%%', shadow = True, colors = ['red','blue'])\n",
    "ax7.axis('equal')\n",
    "ax7.legend()\n",
    "ax7.set_title('What percentage of crimes involve shooting?')"
   ]
  },
  {
   "cell_type": "markdown",
   "metadata": {},
   "source": [
    "<a id = 'crime_rates'></a>\n",
    "[Return to top](#top)\n",
    "# 3. Crime rates of neighborhoods of Boston"
   ]
  },
  {
   "cell_type": "markdown",
   "metadata": {},
   "source": [
    "We are going to continue our exploration in 2.5 . It is impossible to calculate the population of police districts. However the population of neighborhoods of Boston are still possible to obtain. We are going to use the definitions of neighborhoods on the [Analyze Boston](http://bostonopendata-boston.opendata.arcgis.com/datasets/3525b0ee6e6b427f9aab5d0a1d0a1a28_0) website."
   ]
  },
  {
   "cell_type": "markdown",
   "metadata": {},
   "source": [
    "<a id = '3.0'></a>\n",
    "## 3.1 Calculate the population of each neighborhood of Boston"
   ]
  },
  {
   "cell_type": "code",
   "execution_count": 207,
   "metadata": {},
   "outputs": [
    {
     "name": "stdout",
     "output_type": "stream",
     "text": [
      "['Roslindale', 'Jamaica Plain', 'Mission Hill', 'Longwood', 'Bay Village', 'Leather District', 'Chinatown', 'North End', 'Roxbury', 'South End', 'Back Bay', 'East Boston', 'Charlestown', 'West End', 'Beacon Hill', 'Downtown', 'Fenway', 'Brighton', 'West Roxbury', 'Hyde Park', 'Mattapan', 'Dorchester', 'South Boston Waterfront', 'South Boston', 'Allston', 'Harbor Islands']\n"
     ]
    }
   ],
   "source": [
    "import json\n",
    "with open('Boston_Neighborhoods.geojson', 'r') as f:\n",
    "    boston_geojson = json.load(f)\n",
    "features = boston_geojson['features']\n",
    "nbh_list = []\n",
    "for feature in features:\n",
    "    nbh_list.append(feature['properties']['Name'])\n",
    "print(nbh_list)"
   ]
  },
  {
   "cell_type": "code",
   "execution_count": 209,
   "metadata": {},
   "outputs": [],
   "source": [
    "nbh_list.sort()"
   ]
  },
  {
   "cell_type": "code",
   "execution_count": 212,
   "metadata": {
    "scrolled": true
   },
   "outputs": [
    {
     "data": {
      "text/plain": [
       "['Allston',\n",
       " 'Back Bay',\n",
       " 'Bay Village',\n",
       " 'Beacon Hill',\n",
       " 'Brighton',\n",
       " 'Charlestown',\n",
       " 'Chinatown',\n",
       " 'Dorchester',\n",
       " 'Downtown',\n",
       " 'East Boston',\n",
       " 'Fenway',\n",
       " 'Harbor Islands',\n",
       " 'Hyde Park',\n",
       " 'Jamaica Plain',\n",
       " 'Leather District',\n",
       " 'Longwood',\n",
       " 'Mattapan',\n",
       " 'Mission Hill',\n",
       " 'North End',\n",
       " 'Roslindale',\n",
       " 'Roxbury',\n",
       " 'South Boston',\n",
       " 'South Boston Waterfront',\n",
       " 'South End',\n",
       " 'West End',\n",
       " 'West Roxbury']"
      ]
     },
     "execution_count": 212,
     "metadata": {},
     "output_type": "execute_result"
    }
   ],
   "source": [
    "nbh_list"
   ]
  },
  {
   "cell_type": "markdown",
   "metadata": {},
   "source": [
    "Now it's time to determine the population of each neighborhood. The data is also obtained from [Analyze Boston](https://data.boston.gov/dataset/boston-neighborhood-demographics) because different websites have completely different definitions of many neighborhoods. Here according to the City of Boston Chinatown and Leather district have been merged into Downtown and Bay Village is merged into South End."
   ]
  },
  {
   "cell_type": "code",
   "execution_count": 213,
   "metadata": {},
   "outputs": [],
   "source": [
    "nbh_list.remove('Chinatown')\n",
    "nbh_list.remove('Bay Village')\n",
    "nbh_list.remove('Leather District')"
   ]
  },
  {
   "cell_type": "code",
   "execution_count": 214,
   "metadata": {},
   "outputs": [
    {
     "data": {
      "text/plain": [
       "['Allston',\n",
       " 'Back Bay',\n",
       " 'Beacon Hill',\n",
       " 'Brighton',\n",
       " 'Charlestown',\n",
       " 'Dorchester',\n",
       " 'Downtown',\n",
       " 'East Boston',\n",
       " 'Fenway',\n",
       " 'Harbor Islands',\n",
       " 'Hyde Park',\n",
       " 'Jamaica Plain',\n",
       " 'Longwood',\n",
       " 'Mattapan',\n",
       " 'Mission Hill',\n",
       " 'North End',\n",
       " 'Roslindale',\n",
       " 'Roxbury',\n",
       " 'South Boston',\n",
       " 'South Boston Waterfront',\n",
       " 'South End',\n",
       " 'West End',\n",
       " 'West Roxbury']"
      ]
     },
     "execution_count": 214,
     "metadata": {},
     "output_type": "execute_result"
    }
   ],
   "source": [
    "nbh_list"
   ]
  },
  {
   "cell_type": "code",
   "execution_count": 220,
   "metadata": {},
   "outputs": [],
   "source": [
    "nbh_pop = {\n",
    "    'Allston':22312,\n",
    " 'Back Bay':16622,\n",
    " 'Beacon Hill':9023,\n",
    " 'Brighton':52685,\n",
    " 'Charlestown':16439,\n",
    " 'Dorchester':114249,\n",
    " 'Downtown':15992,\n",
    " 'East Boston':40508,\n",
    " 'Fenway':33895,\n",
    " 'Harbor Islands':535,\n",
    " 'Hyde Park':32317,\n",
    " 'Jamaica Plain':35541,\n",
    " 'Longwood':4861,\n",
    " 'Mattapan':22500,\n",
    " 'Mission Hill':16874,\n",
    " 'North End':8608,\n",
    " 'Roslindale':26368,\n",
    " 'Roxbury':49111,\n",
    " 'South Boston':31110,\n",
    " 'South Boston Waterfront':2564,\n",
    " 'South End':29612,\n",
    " 'West End':5423,\n",
    " 'West Roxbury':30445\n",
    "}"
   ]
  },
  {
   "cell_type": "markdown",
   "metadata": {},
   "source": []
  },
  {
   "cell_type": "code",
   "execution_count": 222,
   "metadata": {},
   "outputs": [],
   "source": [
    "df_nb = pd.DataFrame.from_dict(data = nbh_pop, orient = 'index', columns = ['population'])"
   ]
  },
  {
   "cell_type": "code",
   "execution_count": 223,
   "metadata": {},
   "outputs": [
    {
     "data": {
      "text/html": [
       "<div>\n",
       "<style scoped>\n",
       "    .dataframe tbody tr th:only-of-type {\n",
       "        vertical-align: middle;\n",
       "    }\n",
       "\n",
       "    .dataframe tbody tr th {\n",
       "        vertical-align: top;\n",
       "    }\n",
       "\n",
       "    .dataframe thead th {\n",
       "        text-align: right;\n",
       "    }\n",
       "</style>\n",
       "<table border=\"1\" class=\"dataframe\">\n",
       "  <thead>\n",
       "    <tr style=\"text-align: right;\">\n",
       "      <th></th>\n",
       "      <th>population</th>\n",
       "    </tr>\n",
       "  </thead>\n",
       "  <tbody>\n",
       "    <tr>\n",
       "      <th>Allston</th>\n",
       "      <td>22312</td>\n",
       "    </tr>\n",
       "    <tr>\n",
       "      <th>Back Bay</th>\n",
       "      <td>16622</td>\n",
       "    </tr>\n",
       "    <tr>\n",
       "      <th>Beacon Hill</th>\n",
       "      <td>9023</td>\n",
       "    </tr>\n",
       "    <tr>\n",
       "      <th>Brighton</th>\n",
       "      <td>52685</td>\n",
       "    </tr>\n",
       "    <tr>\n",
       "      <th>Charlestown</th>\n",
       "      <td>16439</td>\n",
       "    </tr>\n",
       "    <tr>\n",
       "      <th>Dorchester</th>\n",
       "      <td>114249</td>\n",
       "    </tr>\n",
       "    <tr>\n",
       "      <th>Downtown</th>\n",
       "      <td>15992</td>\n",
       "    </tr>\n",
       "    <tr>\n",
       "      <th>East Boston</th>\n",
       "      <td>40508</td>\n",
       "    </tr>\n",
       "    <tr>\n",
       "      <th>Fenway</th>\n",
       "      <td>33895</td>\n",
       "    </tr>\n",
       "    <tr>\n",
       "      <th>Harbor Islands</th>\n",
       "      <td>535</td>\n",
       "    </tr>\n",
       "    <tr>\n",
       "      <th>Hyde Park</th>\n",
       "      <td>32317</td>\n",
       "    </tr>\n",
       "    <tr>\n",
       "      <th>Jamaica Plain</th>\n",
       "      <td>35541</td>\n",
       "    </tr>\n",
       "    <tr>\n",
       "      <th>Longwood</th>\n",
       "      <td>4861</td>\n",
       "    </tr>\n",
       "    <tr>\n",
       "      <th>Mattapan</th>\n",
       "      <td>22500</td>\n",
       "    </tr>\n",
       "    <tr>\n",
       "      <th>Mission Hill</th>\n",
       "      <td>16874</td>\n",
       "    </tr>\n",
       "    <tr>\n",
       "      <th>North End</th>\n",
       "      <td>8608</td>\n",
       "    </tr>\n",
       "    <tr>\n",
       "      <th>Roslindale</th>\n",
       "      <td>26368</td>\n",
       "    </tr>\n",
       "    <tr>\n",
       "      <th>Roxbury</th>\n",
       "      <td>49111</td>\n",
       "    </tr>\n",
       "    <tr>\n",
       "      <th>South Boston</th>\n",
       "      <td>31110</td>\n",
       "    </tr>\n",
       "    <tr>\n",
       "      <th>South Boston Waterfront</th>\n",
       "      <td>2564</td>\n",
       "    </tr>\n",
       "    <tr>\n",
       "      <th>South End</th>\n",
       "      <td>29612</td>\n",
       "    </tr>\n",
       "    <tr>\n",
       "      <th>West End</th>\n",
       "      <td>5423</td>\n",
       "    </tr>\n",
       "    <tr>\n",
       "      <th>West Roxbury</th>\n",
       "      <td>30445</td>\n",
       "    </tr>\n",
       "  </tbody>\n",
       "</table>\n",
       "</div>"
      ],
      "text/plain": [
       "                         population\n",
       "Allston                       22312\n",
       "Back Bay                      16622\n",
       "Beacon Hill                    9023\n",
       "Brighton                      52685\n",
       "Charlestown                   16439\n",
       "Dorchester                   114249\n",
       "Downtown                      15992\n",
       "East Boston                   40508\n",
       "Fenway                        33895\n",
       "Harbor Islands                  535\n",
       "Hyde Park                     32317\n",
       "Jamaica Plain                 35541\n",
       "Longwood                       4861\n",
       "Mattapan                      22500\n",
       "Mission Hill                  16874\n",
       "North End                      8608\n",
       "Roslindale                    26368\n",
       "Roxbury                       49111\n",
       "South Boston                  31110\n",
       "South Boston Waterfront        2564\n",
       "South End                     29612\n",
       "West End                       5423\n",
       "West Roxbury                  30445"
      ]
     },
     "execution_count": 223,
     "metadata": {},
     "output_type": "execute_result"
    }
   ],
   "source": [
    "df_nb"
   ]
  },
  {
   "cell_type": "markdown",
   "metadata": {},
   "source": [
    "We need to preserve the data."
   ]
  },
  {
   "cell_type": "code",
   "execution_count": 224,
   "metadata": {},
   "outputs": [],
   "source": [
    "df_nb.to_csv('population.csv')"
   ]
  },
  {
   "cell_type": "markdown",
   "metadata": {},
   "source": [
    "<a id = '3.1'></a>\n",
    "[Return to top](#top)\n",
    "## 3.2 Determining the neighborhood in which a crime took place"
   ]
  },
  {
   "cell_type": "markdown",
   "metadata": {},
   "source": [
    "Since we already have the information about "
   ]
  }
 ],
 "metadata": {
  "kernelspec": {
   "display_name": "Python 3",
   "language": "python",
   "name": "python3"
  },
  "language_info": {
   "codemirror_mode": {
    "name": "ipython",
    "version": 3
   },
   "file_extension": ".py",
   "mimetype": "text/x-python",
   "name": "python",
   "nbconvert_exporter": "python",
   "pygments_lexer": "ipython3",
   "version": "3.7.0"
  }
 },
 "nbformat": 4,
 "nbformat_minor": 2
}
